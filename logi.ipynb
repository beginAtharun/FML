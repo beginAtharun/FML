{
  "nbformat": 4,
  "nbformat_minor": 0,
  "metadata": {
    "colab": {
      "provenance": [],
      "authorship_tag": "ABX9TyMSO97ktM/dhvAwpNPmPj5s",
      "include_colab_link": true
    },
    "kernelspec": {
      "name": "python3",
      "display_name": "Python 3"
    },
    "language_info": {
      "name": "python"
    }
  },
  "cells": [
    {
      "cell_type": "markdown",
      "metadata": {
        "id": "view-in-github",
        "colab_type": "text"
      },
      "source": [
        "<a href=\"https://colab.research.google.com/github/beginAtharun/FML/blob/main/logi.ipynb\" target=\"_parent\"><img src=\"https://colab.research.google.com/assets/colab-badge.svg\" alt=\"Open In Colab\"/></a>"
      ]
    },
    {
      "cell_type": "code",
      "execution_count": 1,
      "metadata": {
        "id": "WkU8hkjXEZKK"
      },
      "outputs": [],
      "source": [
        "import matplotlib.pyplot as plt\n",
        "import numpy as np\n",
        "import pandas as pd\n",
        "from sklearn.linear_model import LogisticRegression\n",
        "from sklearn.metrics import classification_report, confusion_matrix"
      ]
    },
    {
      "cell_type": "code",
      "source": [
        "data=pd.read_csv(\"/content/diabetes.csv\")\n",
        "data.head()"
      ],
      "metadata": {
        "colab": {
          "base_uri": "https://localhost:8080/",
          "height": 204
        },
        "id": "e8LSXTeUEemu",
        "outputId": "90f8addf-c3bd-421f-f689-ac206be14ad5"
      },
      "execution_count": 3,
      "outputs": [
        {
          "output_type": "execute_result",
          "data": {
            "text/plain": [
              "   pregnancies  glucose  diastolic  triceps  insulin   bmi    dpf  age  \\\n",
              "0            6      148         72       35        0  33.6  0.627   50   \n",
              "1            1       85         66       29        0  26.6  0.351   31   \n",
              "2            8      183         64        0        0  23.3  0.672   32   \n",
              "3            1       89         66       23       94  28.1  0.167   21   \n",
              "4            0      137         40       35      168  43.1  2.288   33   \n",
              "\n",
              "   diabetes  \n",
              "0         1  \n",
              "1         0  \n",
              "2         1  \n",
              "3         0  \n",
              "4         1  "
            ],
            "text/html": [
              "\n",
              "  <div id=\"df-34740f74-c33b-48b2-a0df-4ad354c2d8d8\">\n",
              "    <div class=\"colab-df-container\">\n",
              "      <div>\n",
              "<style scoped>\n",
              "    .dataframe tbody tr th:only-of-type {\n",
              "        vertical-align: middle;\n",
              "    }\n",
              "\n",
              "    .dataframe tbody tr th {\n",
              "        vertical-align: top;\n",
              "    }\n",
              "\n",
              "    .dataframe thead th {\n",
              "        text-align: right;\n",
              "    }\n",
              "</style>\n",
              "<table border=\"1\" class=\"dataframe\">\n",
              "  <thead>\n",
              "    <tr style=\"text-align: right;\">\n",
              "      <th></th>\n",
              "      <th>pregnancies</th>\n",
              "      <th>glucose</th>\n",
              "      <th>diastolic</th>\n",
              "      <th>triceps</th>\n",
              "      <th>insulin</th>\n",
              "      <th>bmi</th>\n",
              "      <th>dpf</th>\n",
              "      <th>age</th>\n",
              "      <th>diabetes</th>\n",
              "    </tr>\n",
              "  </thead>\n",
              "  <tbody>\n",
              "    <tr>\n",
              "      <th>0</th>\n",
              "      <td>6</td>\n",
              "      <td>148</td>\n",
              "      <td>72</td>\n",
              "      <td>35</td>\n",
              "      <td>0</td>\n",
              "      <td>33.6</td>\n",
              "      <td>0.627</td>\n",
              "      <td>50</td>\n",
              "      <td>1</td>\n",
              "    </tr>\n",
              "    <tr>\n",
              "      <th>1</th>\n",
              "      <td>1</td>\n",
              "      <td>85</td>\n",
              "      <td>66</td>\n",
              "      <td>29</td>\n",
              "      <td>0</td>\n",
              "      <td>26.6</td>\n",
              "      <td>0.351</td>\n",
              "      <td>31</td>\n",
              "      <td>0</td>\n",
              "    </tr>\n",
              "    <tr>\n",
              "      <th>2</th>\n",
              "      <td>8</td>\n",
              "      <td>183</td>\n",
              "      <td>64</td>\n",
              "      <td>0</td>\n",
              "      <td>0</td>\n",
              "      <td>23.3</td>\n",
              "      <td>0.672</td>\n",
              "      <td>32</td>\n",
              "      <td>1</td>\n",
              "    </tr>\n",
              "    <tr>\n",
              "      <th>3</th>\n",
              "      <td>1</td>\n",
              "      <td>89</td>\n",
              "      <td>66</td>\n",
              "      <td>23</td>\n",
              "      <td>94</td>\n",
              "      <td>28.1</td>\n",
              "      <td>0.167</td>\n",
              "      <td>21</td>\n",
              "      <td>0</td>\n",
              "    </tr>\n",
              "    <tr>\n",
              "      <th>4</th>\n",
              "      <td>0</td>\n",
              "      <td>137</td>\n",
              "      <td>40</td>\n",
              "      <td>35</td>\n",
              "      <td>168</td>\n",
              "      <td>43.1</td>\n",
              "      <td>2.288</td>\n",
              "      <td>33</td>\n",
              "      <td>1</td>\n",
              "    </tr>\n",
              "  </tbody>\n",
              "</table>\n",
              "</div>\n",
              "      <button class=\"colab-df-convert\" onclick=\"convertToInteractive('df-34740f74-c33b-48b2-a0df-4ad354c2d8d8')\"\n",
              "              title=\"Convert this dataframe to an interactive table.\"\n",
              "              style=\"display:none;\">\n",
              "        \n",
              "  <svg xmlns=\"http://www.w3.org/2000/svg\" height=\"24px\"viewBox=\"0 0 24 24\"\n",
              "       width=\"24px\">\n",
              "    <path d=\"M0 0h24v24H0V0z\" fill=\"none\"/>\n",
              "    <path d=\"M18.56 5.44l.94 2.06.94-2.06 2.06-.94-2.06-.94-.94-2.06-.94 2.06-2.06.94zm-11 1L8.5 8.5l.94-2.06 2.06-.94-2.06-.94L8.5 2.5l-.94 2.06-2.06.94zm10 10l.94 2.06.94-2.06 2.06-.94-2.06-.94-.94-2.06-.94 2.06-2.06.94z\"/><path d=\"M17.41 7.96l-1.37-1.37c-.4-.4-.92-.59-1.43-.59-.52 0-1.04.2-1.43.59L10.3 9.45l-7.72 7.72c-.78.78-.78 2.05 0 2.83L4 21.41c.39.39.9.59 1.41.59.51 0 1.02-.2 1.41-.59l7.78-7.78 2.81-2.81c.8-.78.8-2.07 0-2.86zM5.41 20L4 18.59l7.72-7.72 1.47 1.35L5.41 20z\"/>\n",
              "  </svg>\n",
              "      </button>\n",
              "      \n",
              "  <style>\n",
              "    .colab-df-container {\n",
              "      display:flex;\n",
              "      flex-wrap:wrap;\n",
              "      gap: 12px;\n",
              "    }\n",
              "\n",
              "    .colab-df-convert {\n",
              "      background-color: #E8F0FE;\n",
              "      border: none;\n",
              "      border-radius: 50%;\n",
              "      cursor: pointer;\n",
              "      display: none;\n",
              "      fill: #1967D2;\n",
              "      height: 32px;\n",
              "      padding: 0 0 0 0;\n",
              "      width: 32px;\n",
              "    }\n",
              "\n",
              "    .colab-df-convert:hover {\n",
              "      background-color: #E2EBFA;\n",
              "      box-shadow: 0px 1px 2px rgba(60, 64, 67, 0.3), 0px 1px 3px 1px rgba(60, 64, 67, 0.15);\n",
              "      fill: #174EA6;\n",
              "    }\n",
              "\n",
              "    [theme=dark] .colab-df-convert {\n",
              "      background-color: #3B4455;\n",
              "      fill: #D2E3FC;\n",
              "    }\n",
              "\n",
              "    [theme=dark] .colab-df-convert:hover {\n",
              "      background-color: #434B5C;\n",
              "      box-shadow: 0px 1px 3px 1px rgba(0, 0, 0, 0.15);\n",
              "      filter: drop-shadow(0px 1px 2px rgba(0, 0, 0, 0.3));\n",
              "      fill: #FFFFFF;\n",
              "    }\n",
              "  </style>\n",
              "\n",
              "      <script>\n",
              "        const buttonEl =\n",
              "          document.querySelector('#df-34740f74-c33b-48b2-a0df-4ad354c2d8d8 button.colab-df-convert');\n",
              "        buttonEl.style.display =\n",
              "          google.colab.kernel.accessAllowed ? 'block' : 'none';\n",
              "\n",
              "        async function convertToInteractive(key) {\n",
              "          const element = document.querySelector('#df-34740f74-c33b-48b2-a0df-4ad354c2d8d8');\n",
              "          const dataTable =\n",
              "            await google.colab.kernel.invokeFunction('convertToInteractive',\n",
              "                                                     [key], {});\n",
              "          if (!dataTable) return;\n",
              "\n",
              "          const docLinkHtml = 'Like what you see? Visit the ' +\n",
              "            '<a target=\"_blank\" href=https://colab.research.google.com/notebooks/data_table.ipynb>data table notebook</a>'\n",
              "            + ' to learn more about interactive tables.';\n",
              "          element.innerHTML = '';\n",
              "          dataTable['output_type'] = 'display_data';\n",
              "          await google.colab.output.renderOutput(dataTable, element);\n",
              "          const docLink = document.createElement('div');\n",
              "          docLink.innerHTML = docLinkHtml;\n",
              "          element.appendChild(docLink);\n",
              "        }\n",
              "      </script>\n",
              "    </div>\n",
              "  </div>\n",
              "  "
            ]
          },
          "metadata": {},
          "execution_count": 3
        }
      ]
    },
    {
      "cell_type": "code",
      "source": [
        "x=data['age'].values\n",
        "y=data['diabetes'].values"
      ],
      "metadata": {
        "id": "6mKIthuIEev1"
      },
      "execution_count": 4,
      "outputs": []
    },
    {
      "cell_type": "code",
      "source": [
        "from sklearn.model_selection import train_test_split\n",
        "X_train, X_test, y_train, y_test = train_test_split(x, y, test_size=0.25, random_state=0)"
      ],
      "metadata": {
        "id": "kBr1OHrwExhW"
      },
      "execution_count": 5,
      "outputs": []
    },
    {
      "cell_type": "code",
      "source": [
        "X_train=X_train.reshape(-1,1)\n",
        "y_train=y_train.reshape(-1,1)\n",
        "X_test=X_test.reshape(-1,1)\n",
        "y_test=y_test.reshape(-1,1)"
      ],
      "metadata": {
        "id": "kevP9w7DExkG"
      },
      "execution_count": 20,
      "outputs": []
    },
    {
      "cell_type": "code",
      "source": [
        "clasifymodel=LogisticRegression(C=0.5)\n",
        "clasifymodel.fit(X_train, y_train)"
      ],
      "metadata": {
        "colab": {
          "base_uri": "https://localhost:8080/",
          "height": 128
        },
        "id": "qd44WjeLExmR",
        "outputId": "ffa6b369-2f85-4206-d46b-617d6f5e5ae0"
      },
      "execution_count": 21,
      "outputs": [
        {
          "output_type": "stream",
          "name": "stderr",
          "text": [
            "/usr/local/lib/python3.9/dist-packages/sklearn/utils/validation.py:1143: DataConversionWarning: A column-vector y was passed when a 1d array was expected. Please change the shape of y to (n_samples, ), for example using ravel().\n",
            "  y = column_or_1d(y, warn=True)\n"
          ]
        },
        {
          "output_type": "execute_result",
          "data": {
            "text/plain": [
              "LogisticRegression(C=0.5)"
            ],
            "text/html": [
              "<style>#sk-container-id-2 {color: black;background-color: white;}#sk-container-id-2 pre{padding: 0;}#sk-container-id-2 div.sk-toggleable {background-color: white;}#sk-container-id-2 label.sk-toggleable__label {cursor: pointer;display: block;width: 100%;margin-bottom: 0;padding: 0.3em;box-sizing: border-box;text-align: center;}#sk-container-id-2 label.sk-toggleable__label-arrow:before {content: \"▸\";float: left;margin-right: 0.25em;color: #696969;}#sk-container-id-2 label.sk-toggleable__label-arrow:hover:before {color: black;}#sk-container-id-2 div.sk-estimator:hover label.sk-toggleable__label-arrow:before {color: black;}#sk-container-id-2 div.sk-toggleable__content {max-height: 0;max-width: 0;overflow: hidden;text-align: left;background-color: #f0f8ff;}#sk-container-id-2 div.sk-toggleable__content pre {margin: 0.2em;color: black;border-radius: 0.25em;background-color: #f0f8ff;}#sk-container-id-2 input.sk-toggleable__control:checked~div.sk-toggleable__content {max-height: 200px;max-width: 100%;overflow: auto;}#sk-container-id-2 input.sk-toggleable__control:checked~label.sk-toggleable__label-arrow:before {content: \"▾\";}#sk-container-id-2 div.sk-estimator input.sk-toggleable__control:checked~label.sk-toggleable__label {background-color: #d4ebff;}#sk-container-id-2 div.sk-label input.sk-toggleable__control:checked~label.sk-toggleable__label {background-color: #d4ebff;}#sk-container-id-2 input.sk-hidden--visually {border: 0;clip: rect(1px 1px 1px 1px);clip: rect(1px, 1px, 1px, 1px);height: 1px;margin: -1px;overflow: hidden;padding: 0;position: absolute;width: 1px;}#sk-container-id-2 div.sk-estimator {font-family: monospace;background-color: #f0f8ff;border: 1px dotted black;border-radius: 0.25em;box-sizing: border-box;margin-bottom: 0.5em;}#sk-container-id-2 div.sk-estimator:hover {background-color: #d4ebff;}#sk-container-id-2 div.sk-parallel-item::after {content: \"\";width: 100%;border-bottom: 1px solid gray;flex-grow: 1;}#sk-container-id-2 div.sk-label:hover label.sk-toggleable__label {background-color: #d4ebff;}#sk-container-id-2 div.sk-serial::before {content: \"\";position: absolute;border-left: 1px solid gray;box-sizing: border-box;top: 0;bottom: 0;left: 50%;z-index: 0;}#sk-container-id-2 div.sk-serial {display: flex;flex-direction: column;align-items: center;background-color: white;padding-right: 0.2em;padding-left: 0.2em;position: relative;}#sk-container-id-2 div.sk-item {position: relative;z-index: 1;}#sk-container-id-2 div.sk-parallel {display: flex;align-items: stretch;justify-content: center;background-color: white;position: relative;}#sk-container-id-2 div.sk-item::before, #sk-container-id-2 div.sk-parallel-item::before {content: \"\";position: absolute;border-left: 1px solid gray;box-sizing: border-box;top: 0;bottom: 0;left: 50%;z-index: -1;}#sk-container-id-2 div.sk-parallel-item {display: flex;flex-direction: column;z-index: 1;position: relative;background-color: white;}#sk-container-id-2 div.sk-parallel-item:first-child::after {align-self: flex-end;width: 50%;}#sk-container-id-2 div.sk-parallel-item:last-child::after {align-self: flex-start;width: 50%;}#sk-container-id-2 div.sk-parallel-item:only-child::after {width: 0;}#sk-container-id-2 div.sk-dashed-wrapped {border: 1px dashed gray;margin: 0 0.4em 0.5em 0.4em;box-sizing: border-box;padding-bottom: 0.4em;background-color: white;}#sk-container-id-2 div.sk-label label {font-family: monospace;font-weight: bold;display: inline-block;line-height: 1.2em;}#sk-container-id-2 div.sk-label-container {text-align: center;}#sk-container-id-2 div.sk-container {/* jupyter's `normalize.less` sets `[hidden] { display: none; }` but bootstrap.min.css set `[hidden] { display: none !important; }` so we also need the `!important` here to be able to override the default hidden behavior on the sphinx rendered scikit-learn.org. See: https://github.com/scikit-learn/scikit-learn/issues/21755 */display: inline-block !important;position: relative;}#sk-container-id-2 div.sk-text-repr-fallback {display: none;}</style><div id=\"sk-container-id-2\" class=\"sk-top-container\"><div class=\"sk-text-repr-fallback\"><pre>LogisticRegression(C=0.5)</pre><b>In a Jupyter environment, please rerun this cell to show the HTML representation or trust the notebook. <br />On GitHub, the HTML representation is unable to render, please try loading this page with nbviewer.org.</b></div><div class=\"sk-container\" hidden><div class=\"sk-item\"><div class=\"sk-estimator sk-toggleable\"><input class=\"sk-toggleable__control sk-hidden--visually\" id=\"sk-estimator-id-2\" type=\"checkbox\" checked><label for=\"sk-estimator-id-2\" class=\"sk-toggleable__label sk-toggleable__label-arrow\">LogisticRegression</label><div class=\"sk-toggleable__content\"><pre>LogisticRegression(C=0.5)</pre></div></div></div></div></div>"
            ]
          },
          "metadata": {},
          "execution_count": 21
        }
      ]
    },
    {
      "cell_type": "code",
      "source": [
        "plt.scatter(X_train, y_train, color='lightgreen')\n",
        "plt.plot(X_train, clasifymodel.predict(X_train), color='blue', linewidth=3)\n",
        "plt.show()"
      ],
      "metadata": {
        "colab": {
          "base_uri": "https://localhost:8080/",
          "height": 430
        },
        "id": "AVldPUdfHIsU",
        "outputId": "7206a43d-ced2-4c8d-84c2-a9d1b6056633"
      },
      "execution_count": 22,
      "outputs": [
        {
          "output_type": "display_data",
          "data": {
            "text/plain": [
              "<Figure size 640x480 with 1 Axes>"
            ],
            "image/png": "[encoded data removed]"
          },
          "metadata": {}
        }
      ]
    },
    {
      "cell_type": "code",
      "source": [
        "clasifymodel.classes_"
      ],
      "metadata": {
        "colab": {
          "base_uri": "https://localhost:8080/"
        },
        "id": "Xz4XUeIOHZl0",
        "outputId": "8ec6e100-98a3-41c7-b7d9-56432bf685e6"
      },
      "execution_count": 23,
      "outputs": [
        {
          "output_type": "execute_result",
          "data": {
            "text/plain": [
              "array([0, 1])"
            ]
          },
          "metadata": {},
          "execution_count": 23
        }
      ]
    },
    {
      "cell_type": "code",
      "source": [
        "intercept=clasifymodel.intercept_\n",
        "print(\"intercept is\",intercept[0])"
      ],
      "metadata": {
        "colab": {
          "base_uri": "https://localhost:8080/"
        },
        "id": "g2ArAq-KH8_V",
        "outputId": "370f0289-79dd-4186-d903-b21047f64fec"
      },
      "execution_count": 24,
      "outputs": [
        {
          "output_type": "stream",
          "name": "stdout",
          "text": [
            "intercept is -2.032171015751383\n"
          ]
        }
      ]
    },
    {
      "cell_type": "code",
      "source": [
        "slope=clasifymodel.coef_\n",
        "print(\"slope is\",slope[0])"
      ],
      "metadata": {
        "colab": {
          "base_uri": "https://localhost:8080/"
        },
        "id": "eUF82TSGH9GP",
        "outputId": "692387a0-2dbc-4189-8747-fccf76ee83a6"
      },
      "execution_count": 25,
      "outputs": [
        {
          "output_type": "stream",
          "name": "stdout",
          "text": [
            "slope is [0.04230922]\n"
          ]
        }
      ]
    },
    {
      "cell_type": "code",
      "source": [
        "clasifymodel.predict_proba(X_test)"
      ],
      "metadata": {
        "colab": {
          "base_uri": "https://localhost:8080/"
        },
        "id": "7NT-TwX9Il68",
        "outputId": "29480c99-5073-460c-e4fe-a088c4a8239d"
      },
      "execution_count": 26,
      "outputs": [
        {
          "output_type": "execute_result",
          "data": {
            "text/plain": [
              "array([[0.75051635, 0.24948365],\n",
              "       [0.74251065, 0.25748935],\n",
              "       [0.72600368, 0.27399632],\n",
              "       [0.46864135, 0.53135865],\n",
              "       [0.67273584, 0.32726416],\n",
              "       [0.73433898, 0.26566102],\n",
              "       [0.65384114, 0.34615886],\n",
              "       [0.45812118, 0.54187882],\n",
              "       [0.72600368, 0.27399632],\n",
              "       [0.42682027, 0.57317973],\n",
              "       [0.70004512, 0.29995488],\n",
              "       [0.44763822, 0.55236178],\n",
              "       [0.4062584 , 0.5937416 ],\n",
              "       [0.72600368, 0.27399632],\n",
              "       [0.56345194, 0.43654806],\n",
              "       [0.66335377, 0.33664623],\n",
              "       [0.62458115, 0.37541885],\n",
              "       [0.75835416, 0.24164584],\n",
              "       [0.34676035, 0.65323965],\n",
              "       [0.68198178, 0.31801822],\n",
              "       [0.61460943, 0.38539057],\n",
              "       [0.75835416, 0.24164584],\n",
              "       [0.72600368, 0.27399632],\n",
              "       [0.52147345, 0.47852655],\n",
              "       [0.75051635, 0.24948365],\n",
              "       [0.75835416, 0.24164584],\n",
              "       [0.70885343, 0.29114657],\n",
              "       [0.59438221, 0.40561779],\n",
              "       [0.73433898, 0.26566102],\n",
              "       [0.68198178, 0.31801822],\n",
              "       [0.46864135, 0.53135865],\n",
              "       [0.75835416, 0.24164584],\n",
              "       [0.70885343, 0.29114657],\n",
              "       [0.70004512, 0.29995488],\n",
              "       [0.73433898, 0.26566102],\n",
              "       [0.5738295 , 0.4261705 ],\n",
              "       [0.56345194, 0.43654806],\n",
              "       [0.75835416, 0.24164584],\n",
              "       [0.72600368, 0.27399632],\n",
              "       [0.71750746, 0.28249254],\n",
              "       [0.74251065, 0.25748935],\n",
              "       [0.75835416, 0.24164584],\n",
              "       [0.66335377, 0.33664623],\n",
              "       [0.72600368, 0.27399632],\n",
              "       [0.44763822, 0.55236178],\n",
              "       [0.75835416, 0.24164584],\n",
              "       [0.75835416, 0.24164584],\n",
              "       [0.70004512, 0.29995488],\n",
              "       [0.71750746, 0.28249254],\n",
              "       [0.70885343, 0.29114657],\n",
              "       [0.62458115, 0.37541885],\n",
              "       [0.75051635, 0.24948365],\n",
              "       [0.60454055, 0.39545945],\n",
              "       [0.59438221, 0.40561779],\n",
              "       [0.72600368, 0.27399632],\n",
              "       [0.75051635, 0.24948365],\n",
              "       [0.67273584, 0.32726416],\n",
              "       [0.70004512, 0.29995488],\n",
              "       [0.74251065, 0.25748935],\n",
              "       [0.68198178, 0.31801822],\n",
              "       [0.55301853, 0.44698147],\n",
              "       [0.68198178, 0.31801822],\n",
              "       [0.75835416, 0.24164584],\n",
              "       [0.72600368, 0.27399632],\n",
              "       [0.69108646, 0.30891354],\n",
              "       [0.59438221, 0.40561779],\n",
              "       [0.48975619, 0.51024381],\n",
              "       [0.58414243, 0.41585757],\n",
              "       [0.56345194, 0.43654806],\n",
              "       [0.60454055, 0.39545945],\n",
              "       [0.75835416, 0.24164584],\n",
              "       [0.61460943, 0.38539057],\n",
              "       [0.72600368, 0.27399632],\n",
              "       [0.5320201 , 0.4679799 ],\n",
              "       [0.71750746, 0.28249254],\n",
              "       [0.68198178, 0.31801822],\n",
              "       [0.51090763, 0.48909237],\n",
              "       [0.59438221, 0.40561779],\n",
              "       [0.64420388, 0.35579612],\n",
              "       [0.68198178, 0.31801822],\n",
              "       [0.56345194, 0.43654806],\n",
              "       [0.73433898, 0.26566102],\n",
              "       [0.70885343, 0.29114657],\n",
              "       [0.75835416, 0.24164584],\n",
              "       [0.70004512, 0.29995488],\n",
              "       [0.69108646, 0.30891354],\n",
              "       [0.75051635, 0.24948365],\n",
              "       [0.65384114, 0.34615886],\n",
              "       [0.46864135, 0.53135865],\n",
              "       [0.75835416, 0.24164584],\n",
              "       [0.68198178, 0.31801822],\n",
              "       [0.70885343, 0.29114657],\n",
              "       [0.72600368, 0.27399632],\n",
              "       [0.75051635, 0.24948365],\n",
              "       [0.47918948, 0.52081052],\n",
              "       [0.75051635, 0.24948365],\n",
              "       [0.66335377, 0.33664623],\n",
              "       [0.70885343, 0.29114657],\n",
              "       [0.41650302, 0.58349698],\n",
              "       [0.52147345, 0.47852655],\n",
              "       [0.70885343, 0.29114657],\n",
              "       [0.75835416, 0.24164584],\n",
              "       [0.68198178, 0.31801822],\n",
              "       [0.72600368, 0.27399632],\n",
              "       [0.73433898, 0.26566102],\n",
              "       [0.65384114, 0.34615886],\n",
              "       [0.75835416, 0.24164584],\n",
              "       [0.75051635, 0.24948365],\n",
              "       [0.68198178, 0.31801822],\n",
              "       [0.66335377, 0.33664623],\n",
              "       [0.75051635, 0.24948365],\n",
              "       [0.62458115, 0.37541885],\n",
              "       [0.5738295 , 0.4261705 ],\n",
              "       [0.65384114, 0.34615886],\n",
              "       [0.75051635, 0.24948365],\n",
              "       [0.51090763, 0.48909237],\n",
              "       [0.75051635, 0.24948365],\n",
              "       [0.73433898, 0.26566102],\n",
              "       [0.74251065, 0.25748935],\n",
              "       [0.50033206, 0.49966794],\n",
              "       [0.60454055, 0.39545945],\n",
              "       [0.32784929, 0.67215071],\n",
              "       [0.70004512, 0.29995488],\n",
              "       [0.35640523, 0.64359477],\n",
              "       [0.75835416, 0.24164584],\n",
              "       [0.72600368, 0.27399632],\n",
              "       [0.70004512, 0.29995488],\n",
              "       [0.63444832, 0.36555168],\n",
              "       [0.35640523, 0.64359477],\n",
              "       [0.75051635, 0.24948365],\n",
              "       [0.71750746, 0.28249254],\n",
              "       [0.73433898, 0.26566102],\n",
              "       [0.72600368, 0.27399632],\n",
              "       [0.70004512, 0.29995488],\n",
              "       [0.5738295 , 0.4261705 ],\n",
              "       [0.52147345, 0.47852655],\n",
              "       [0.69108646, 0.30891354],\n",
              "       [0.67273584, 0.32726416],\n",
              "       [0.70885343, 0.29114657],\n",
              "       [0.70885343, 0.29114657],\n",
              "       [0.72600368, 0.27399632],\n",
              "       [0.61460943, 0.38539057],\n",
              "       [0.75835416, 0.24164584],\n",
              "       [0.5738295 , 0.4261705 ],\n",
              "       [0.56345194, 0.43654806],\n",
              "       [0.75835416, 0.24164584],\n",
              "       [0.68198178, 0.31801822],\n",
              "       [0.5738295 , 0.4261705 ],\n",
              "       [0.75051635, 0.24948365],\n",
              "       [0.69108646, 0.30891354],\n",
              "       [0.70004512, 0.29995488],\n",
              "       [0.75051635, 0.24948365],\n",
              "       [0.73433898, 0.26566102],\n",
              "       [0.73433898, 0.26566102],\n",
              "       [0.43720159, 0.56279841],\n",
              "       [0.75051635, 0.24948365],\n",
              "       [0.74251065, 0.25748935],\n",
              "       [0.74251065, 0.25748935],\n",
              "       [0.60454055, 0.39545945],\n",
              "       [0.58414243, 0.41585757],\n",
              "       [0.51090763, 0.48909237],\n",
              "       [0.38601999, 0.61398001],\n",
              "       [0.75051635, 0.24948365],\n",
              "       [0.75051635, 0.24948365],\n",
              "       [0.61460943, 0.38539057],\n",
              "       [0.73433898, 0.26566102],\n",
              "       [0.5738295 , 0.4261705 ],\n",
              "       [0.74251065, 0.25748935],\n",
              "       [0.73433898, 0.26566102],\n",
              "       [0.52147345, 0.47852655],\n",
              "       [0.75835416, 0.24164584],\n",
              "       [0.59438221, 0.40561779],\n",
              "       [0.67273584, 0.32726416],\n",
              "       [0.56345194, 0.43654806],\n",
              "       [0.34676035, 0.65323965],\n",
              "       [0.75051635, 0.24948365],\n",
              "       [0.4062584 , 0.5937416 ],\n",
              "       [0.63444832, 0.36555168],\n",
              "       [0.70885343, 0.29114657],\n",
              "       [0.75835416, 0.24164584],\n",
              "       [0.62458115, 0.37541885],\n",
              "       [0.54253821, 0.45746179],\n",
              "       [0.73433898, 0.26566102],\n",
              "       [0.72600368, 0.27399632],\n",
              "       [0.75051635, 0.24948365],\n",
              "       [0.62458115, 0.37541885],\n",
              "       [0.71750746, 0.28249254],\n",
              "       [0.69108646, 0.30891354],\n",
              "       [0.72600368, 0.27399632],\n",
              "       [0.75835416, 0.24164584],\n",
              "       [0.42682027, 0.57317973],\n",
              "       [0.61460943, 0.38539057]])"
            ]
          },
          "metadata": {},
          "execution_count": 26
        }
      ]
    },
    {
      "cell_type": "code",
      "source": [
        "y_pred = clasifymodel.predict(X_test)\n",
        "print(y_pred)"
      ],
      "metadata": {
        "colab": {
          "base_uri": "https://localhost:8080/"
        },
        "id": "as2y3rq2Il9V",
        "outputId": "ff1cf497-1917-46dd-fe8a-41422188bc2a"
      },
      "execution_count": 27,
      "outputs": [
        {
          "output_type": "stream",
          "name": "stdout",
          "text": [
            "[0 0 0 1 0 0 0 1 0 1 0 1 1 0 0 0 0 0 1 0 0 0 0 0 0 0 0 0 0 0 1 0 0 0 0 0 0\n",
            " 0 0 0 0 0 0 0 1 0 0 0 0 0 0 0 0 0 0 0 0 0 0 0 0 0 0 0 0 0 1 0 0 0 0 0 0 0\n",
            " 0 0 0 0 0 0 0 0 0 0 0 0 0 0 1 0 0 0 0 0 1 0 0 0 1 0 0 0 0 0 0 0 0 0 0 0 0\n",
            " 0 0 0 0 0 0 0 0 0 0 1 0 1 0 0 0 0 1 0 0 0 0 0 0 0 0 0 0 0 0 0 0 0 0 0 0 0\n",
            " 0 0 0 0 0 0 1 0 0 0 0 0 0 1 0 0 0 0 0 0 0 0 0 0 0 0 1 0 1 0 0 0 0 0 0 0 0\n",
            " 0 0 0 0 0 1 0]\n"
          ]
        }
      ]
    },
    {
      "cell_type": "code",
      "source": [
        "print(\"accuracy is\",clasifymodel.score(X_test, y_test))"
      ],
      "metadata": {
        "colab": {
          "base_uri": "https://localhost:8080/"
        },
        "id": "PoJCq7gLH9Lb",
        "outputId": "6fe37dc9-ab92-4c98-9238-dd8057c0bf74"
      },
      "execution_count": 28,
      "outputs": [
        {
          "output_type": "stream",
          "name": "stdout",
          "text": [
            "accuracy is 0.6666666666666666\n"
          ]
        }
      ]
    },
    {
      "cell_type": "code",
      "source": [
        "print(\"CONFUSION MATRIX IS::\\n\")\n",
        "confusion_matrix(y_test, y_pred)"
      ],
      "metadata": {
        "colab": {
          "base_uri": "https://localhost:8080/"
        },
        "id": "8V9EiAvVJzwt",
        "outputId": "f4da9d62-92f4-4df2-ea2d-5d88367dc199"
      },
      "execution_count": 29,
      "outputs": [
        {
          "output_type": "stream",
          "name": "stdout",
          "text": [
            "CONFUSION MATRIX IS::\n",
            "\n"
          ]
        },
        {
          "output_type": "execute_result",
          "data": {
            "text/plain": [
              "array([[119,  11],\n",
              "       [ 53,   9]])"
            ]
          },
          "metadata": {},
          "execution_count": 29
        }
      ]
    },
    {
      "cell_type": "code",
      "source": [
        "cm = confusion_matrix(y_test, y_pred)\n",
        "\n",
        "fig, ax = plt.subplots(figsize=(8, 8))\n",
        "ax.imshow(cm)\n",
        "ax.grid(False)\n",
        "ax.xaxis.set(ticks=(0, 1), ticklabels=('Predicted 0s', 'Predicted 1s'))\n",
        "ax.yaxis.set(ticks=(0, 1), ticklabels=('Actual 0s', 'Actual 1s'))\n",
        "ax.set_ylim(1.5, -0.5)\n",
        "for i in range(2):\n",
        "    for j in range(2):\n",
        "        ax.text(j, i, cm[i, j], ha='center', va='center', color='red')\n",
        "plt.show()\n",
        "     \n"
      ],
      "metadata": {
        "colab": {
          "base_uri": "https://localhost:8080/",
          "height": 676
        },
        "id": "stPiYzhCJzzZ",
        "outputId": "03def0e0-cc12-414a-ea54-ecf834a73441"
      },
      "execution_count": 30,
      "outputs": [
        {
          "output_type": "display_data",
          "data": {
            "text/plain": [
              "<Figure size 800x800 with 1 Axes>"
            ],
            "image/png": "[encoded data removed]"
          },
          "metadata": {}
        }
      ]
    },
    {
      "cell_type": "code",
      "source": [
        "print(\"classification report is::::\\n\")\n",
        "print(classification_report(y_test,y_pred))"
      ],
      "metadata": {
        "colab": {
          "base_uri": "https://localhost:8080/"
        },
        "id": "pWA8kPUkKwul",
        "outputId": "1d7be64e-0c0e-462a-bcf0-348a1e69e017"
      },
      "execution_count": 31,
      "outputs": [
        {
          "output_type": "stream",
          "name": "stdout",
          "text": [
            "classification report is::::\n",
            "\n",
            "              precision    recall  f1-score   support\n",
            "\n",
            "           0       0.69      0.92      0.79       130\n",
            "           1       0.45      0.15      0.22        62\n",
            "\n",
            "    accuracy                           0.67       192\n",
            "   macro avg       0.57      0.53      0.50       192\n",
            "weighted avg       0.61      0.67      0.60       192\n",
            "\n"
          ]
        }
      ]
    }
  ]
}