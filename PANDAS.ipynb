{
  "cells": [
    {
      "cell_type": "markdown",
      "metadata": {
        "id": "view-in-github",
        "colab_type": "text"
      },
      "source": [
        "<a href=\"https://colab.research.google.com/github/beginAtharun/FML/blob/main/PANDAS.ipynb\" target=\"_parent\"><img src=\"https://colab.research.google.com/assets/colab-badge.svg\" alt=\"Open In Colab\"/></a>"
      ]
    },
    {
      "cell_type": "code",
      "execution_count": null,
      "metadata": {
        "id": "P89cn4mmuAz2",
        "colab": {
          "base_uri": "https://localhost:8080/"
        },
        "outputId": "92bcb55a-4624-4370-aa83-546219b09e1b"
      },
      "outputs": [
        {
          "output_type": "stream",
          "name": "stdout",
          "text": [
            "Looking in indexes: https://pypi.org/simple, https://us-python.pkg.dev/colab-wheels/public/simple/\n",
            "Requirement already satisfied: pandas in /usr/local/lib/python3.9/dist-packages (1.3.5)\n",
            "Requirement already satisfied: python-dateutil>=2.7.3 in /usr/local/lib/python3.9/dist-packages (from pandas) (2.8.2)\n",
            "Requirement already satisfied: pytz>=2017.3 in /usr/local/lib/python3.9/dist-packages (from pandas) (2022.7.1)\n",
            "Requirement already satisfied: numpy>=1.17.3 in /usr/local/lib/python3.9/dist-packages (from pandas) (1.22.4)\n",
            "Requirement already satisfied: six>=1.5 in /usr/local/lib/python3.9/dist-packages (from python-dateutil>=2.7.3->pandas) (1.15.0)\n"
          ]
        }
      ],
      "source": [
        "pip install pandas"
      ]
    },
    {
      "cell_type": "code",
      "source": [
        "#To check th e instalation\n",
        "import pandas as pd\n",
        "\n",
        "#shorthand identifier name can be anything"
      ],
      "metadata": {
        "id": "h6bvpdEIz1Ex"
      },
      "execution_count": null,
      "outputs": []
    },
    {
      "cell_type": "markdown",
      "metadata": {
        "id": "L42Fw6xkgJhy"
      },
      "source": [
        "DATA  ANALYSIS\n",
        "\n",
        "As said that pandas used for data analysis \n",
        "          pandas will convert raw data created by using numpy   arrays and lists into Sereis and those series into DataFrames \n",
        "          these data frames can be analysed"
      ]
    },
    {
      "cell_type": "markdown",
      "metadata": {
        "id": "-VkMrhyShj8_"
      },
      "source": [
        "arrays or list-->Series--->Dataframmes"
      ]
    },
    {
      "cell_type": "markdown",
      "metadata": {
        "id": "lUhq5DEIhtjH"
      },
      "source": [
        "Pandas Series\n",
        "\n",
        "\n",
        "    it is like a one-dimension array\n",
        "\n",
        "\n",
        "EXAMPLE-->"
      ]
    },
    {
      "cell_type": "code",
      "execution_count": null,
      "metadata": {
        "id": "4IBoqPLriHpQ",
        "colab": {
          "base_uri": "https://localhost:8080/"
        },
        "outputId": "75508efa-aa48-4a5e-f38c-19da70aed97b"
      },
      "outputs": [
        {
          "output_type": "stream",
          "name": "stdout",
          "text": [
            "0    4\n",
            "1    6\n",
            "2    3\n",
            "3    1\n",
            "dtype: int64\n"
          ]
        }
      ],
      "source": [
        "import pandas as pd\n",
        "\n",
        "#creating a list of values\n",
        "arr = [4,6,3,1]\n",
        "my_series=pd.Series(arr)\n",
        "#Converting them into a single column values\n",
        "\n",
        "print(my_series)"
      ]
    },
    {
      "cell_type": "markdown",
      "metadata": {
        "id": "nVwzDp7XjH_7"
      },
      "source": [
        "So in pandas SERIES sre uses to convert a list of values into column\n",
        " values( i.e.. Series sre used represent column values)  "
      ]
    },
    {
      "cell_type": "code",
      "execution_count": null,
      "metadata": {
        "id": "F3Rt7Y7ijn3X",
        "colab": {
          "base_uri": "https://localhost:8080/"
        },
        "outputId": "c66a0894-57a8-46a8-ad37-b597714ae2d6"
      },
      "outputs": [
        {
          "output_type": "stream",
          "name": "stdout",
          "text": [
            "3\n"
          ]
        }
      ],
      "source": [
        "#As that these series are indexed as based on row indexes\n",
        "\n",
        "print(my_series[2])"
      ]
    },
    {
      "cell_type": "markdown",
      "metadata": {
        "id": "5LmUV7nNkAsW"
      },
      "source": [
        "LABELING\n",
        "  \n",
        "  ---- In pandas we can change the row indexes by giving our own labels(INDEX)"
      ]
    },
    {
      "cell_type": "code",
      "execution_count": null,
      "metadata": {
        "id": "02081twYkYPr",
        "colab": {
          "base_uri": "https://localhost:8080/"
        },
        "outputId": "0c19b515-fcbc-4d58-ee11-4273fc42d0ef"
      },
      "outputs": [
        {
          "output_type": "stream",
          "name": "stdout",
          "text": [
            "1    4\n",
            "2    6\n",
            "3    3\n",
            "4    1\n",
            "dtype: int64\n",
            "a    4\n",
            "b    6\n",
            "c    3\n",
            "d    1\n",
            "dtype: int64\n"
          ]
        }
      ],
      "source": [
        "#WE should use index argument to set own indexes to the rows of the series our column\n",
        "#default row index are 0,1,2,3,4...\n",
        "index1=[1,2,3,4]\n",
        "index2=['a','b','c','d']\n",
        "my_series1=pd.Series(arr, index=index1)\n",
        "my_series2=pd.Series(arr,index=index2)\n",
        "print(my_series1)\n",
        "print(my_series2)"
      ]
    },
    {
      "cell_type": "markdown",
      "metadata": {
        "id": "815f6qSZmakB"
      },
      "source": [
        "PANDAS DATAFRAMES\n",
        "    \n",
        "    in Pandas we can  analyse the data which were in the multi-dimension tabels\n",
        "\n",
        "     Difference between SERIES and DATAFRAMES\n",
        "         SERIES IS LIKE COLUMNS( consist of column values)\n",
        "         DATAFRAMES IS LIKE WHOLE TABLE( consist of column names along with colummn values( i.e.Series))"
      ]
    },
    {
      "cell_type": "code",
      "execution_count": null,
      "metadata": {
        "id": "AAKGr28YntXA",
        "colab": {
          "base_uri": "https://localhost:8080/"
        },
        "outputId": "ab4437e2-624e-48b2-df89-f626552ae686"
      },
      "outputs": [
        {
          "output_type": "stream",
          "name": "stdout",
          "text": [
            "   Cars  Price\n",
            "0   Bmw    256\n",
            "1  Ford    356\n",
            "2  Benz    400\n"
          ]
        }
      ],
      "source": [
        "#We can create a data frame by using Pyhton Dictionary\n",
        "import pandas as pd\n",
        "#Creating a raw data\n",
        "data={\n",
        "    \"Cars\":[\"Bmw\",\"Ford\",\"Benz\"],\n",
        "    \"Price\":[256, 356, 400]\n",
        "}\n",
        "#Converting this data into DATAFRAME\n",
        "my_dataframe=pd.DataFrame(data)\n",
        "print(my_dataframe)"
      ]
    },
    {
      "cell_type": "code",
      "execution_count": null,
      "metadata": {
        "id": "HoZDThhjo5Sg",
        "colab": {
          "base_uri": "https://localhost:8080/"
        },
        "outputId": "839ef7a6-bf95-4091-9ea5-ed04abb4b017"
      },
      "outputs": [
        {
          "output_type": "stream",
          "name": "stdout",
          "text": [
            "   Cars  Price\n",
            "0   Bmw    200\n",
            "1  ford    300\n",
            "2  benz    400\n"
          ]
        }
      ],
      "source": [
        "#NOT ONLY BY USING DICTIONARIES THERE ARE MANY OTHER WAYS TO COLLECT DATA\n",
        "vehicle=[[\"Bmw\",200],[\"ford\",300],[\"benz\",400]]\n",
        "\n",
        "#data was collected now to set column index or column names to this data by COLUMNS ARGUMENT\n",
        "my_df=pd.DataFrame(vehicle,columns=['Cars','Price'])\n",
        "\n",
        "#default column indexes are 0,1,2,3,4......\n",
        "print(my_df)"
      ]
    },
    {
      "cell_type": "code",
      "execution_count": null,
      "metadata": {
        "id": "08hOy8j0yU_M",
        "colab": {
          "base_uri": "https://localhost:8080/",
          "height": 300
        },
        "outputId": "462fe241-2004-4933-c0be-4ac2d88da929"
      },
      "outputs": [
        {
          "output_type": "execute_result",
          "data": {
            "text/plain": [
              "       Price\n",
              "count    3.0\n",
              "mean   300.0\n",
              "std    100.0\n",
              "min    200.0\n",
              "25%    250.0\n",
              "50%    300.0\n",
              "75%    350.0\n",
              "max    400.0"
            ],
            "text/html": [
              "\n",
              "  <div id=\"df-2a0b8ff1-1097-4ce8-b86f-9a33dc91f949\">\n",
              "    <div class=\"colab-df-container\">\n",
              "      <div>\n",
              "<style scoped>\n",
              "    .dataframe tbody tr th:only-of-type {\n",
              "        vertical-align: middle;\n",
              "    }\n",
              "\n",
              "    .dataframe tbody tr th {\n",
              "        vertical-align: top;\n",
              "    }\n",
              "\n",
              "    .dataframe thead th {\n",
              "        text-align: right;\n",
              "    }\n",
              "</style>\n",
              "<table border=\"1\" class=\"dataframe\">\n",
              "  <thead>\n",
              "    <tr style=\"text-align: right;\">\n",
              "      <th></th>\n",
              "      <th>Price</th>\n",
              "    </tr>\n",
              "  </thead>\n",
              "  <tbody>\n",
              "    <tr>\n",
              "      <th>count</th>\n",
              "      <td>3.0</td>\n",
              "    </tr>\n",
              "    <tr>\n",
              "      <th>mean</th>\n",
              "      <td>300.0</td>\n",
              "    </tr>\n",
              "    <tr>\n",
              "      <th>std</th>\n",
              "      <td>100.0</td>\n",
              "    </tr>\n",
              "    <tr>\n",
              "      <th>min</th>\n",
              "      <td>200.0</td>\n",
              "    </tr>\n",
              "    <tr>\n",
              "      <th>25%</th>\n",
              "      <td>250.0</td>\n",
              "    </tr>\n",
              "    <tr>\n",
              "      <th>50%</th>\n",
              "      <td>300.0</td>\n",
              "    </tr>\n",
              "    <tr>\n",
              "      <th>75%</th>\n",
              "      <td>350.0</td>\n",
              "    </tr>\n",
              "    <tr>\n",
              "      <th>max</th>\n",
              "      <td>400.0</td>\n",
              "    </tr>\n",
              "  </tbody>\n",
              "</table>\n",
              "</div>\n",
              "      <button class=\"colab-df-convert\" onclick=\"convertToInteractive('df-2a0b8ff1-1097-4ce8-b86f-9a33dc91f949')\"\n",
              "              title=\"Convert this dataframe to an interactive table.\"\n",
              "              style=\"display:none;\">\n",
              "        \n",
              "  <svg xmlns=\"http://www.w3.org/2000/svg\" height=\"24px\"viewBox=\"0 0 24 24\"\n",
              "       width=\"24px\">\n",
              "    <path d=\"M0 0h24v24H0V0z\" fill=\"none\"/>\n",
              "    <path d=\"M18.56 5.44l.94 2.06.94-2.06 2.06-.94-2.06-.94-.94-2.06-.94 2.06-2.06.94zm-11 1L8.5 8.5l.94-2.06 2.06-.94-2.06-.94L8.5 2.5l-.94 2.06-2.06.94zm10 10l.94 2.06.94-2.06 2.06-.94-2.06-.94-.94-2.06-.94 2.06-2.06.94z\"/><path d=\"M17.41 7.96l-1.37-1.37c-.4-.4-.92-.59-1.43-.59-.52 0-1.04.2-1.43.59L10.3 9.45l-7.72 7.72c-.78.78-.78 2.05 0 2.83L4 21.41c.39.39.9.59 1.41.59.51 0 1.02-.2 1.41-.59l7.78-7.78 2.81-2.81c.8-.78.8-2.07 0-2.86zM5.41 20L4 18.59l7.72-7.72 1.47 1.35L5.41 20z\"/>\n",
              "  </svg>\n",
              "      </button>\n",
              "      \n",
              "  <style>\n",
              "    .colab-df-container {\n",
              "      display:flex;\n",
              "      flex-wrap:wrap;\n",
              "      gap: 12px;\n",
              "    }\n",
              "\n",
              "    .colab-df-convert {\n",
              "      background-color: #E8F0FE;\n",
              "      border: none;\n",
              "      border-radius: 50%;\n",
              "      cursor: pointer;\n",
              "      display: none;\n",
              "      fill: #1967D2;\n",
              "      height: 32px;\n",
              "      padding: 0 0 0 0;\n",
              "      width: 32px;\n",
              "    }\n",
              "\n",
              "    .colab-df-convert:hover {\n",
              "      background-color: #E2EBFA;\n",
              "      box-shadow: 0px 1px 2px rgba(60, 64, 67, 0.3), 0px 1px 3px 1px rgba(60, 64, 67, 0.15);\n",
              "      fill: #174EA6;\n",
              "    }\n",
              "\n",
              "    [theme=dark] .colab-df-convert {\n",
              "      background-color: #3B4455;\n",
              "      fill: #D2E3FC;\n",
              "    }\n",
              "\n",
              "    [theme=dark] .colab-df-convert:hover {\n",
              "      background-color: #434B5C;\n",
              "      box-shadow: 0px 1px 3px 1px rgba(0, 0, 0, 0.15);\n",
              "      filter: drop-shadow(0px 1px 2px rgba(0, 0, 0, 0.3));\n",
              "      fill: #FFFFFF;\n",
              "    }\n",
              "  </style>\n",
              "\n",
              "      <script>\n",
              "        const buttonEl =\n",
              "          document.querySelector('#df-2a0b8ff1-1097-4ce8-b86f-9a33dc91f949 button.colab-df-convert');\n",
              "        buttonEl.style.display =\n",
              "          google.colab.kernel.accessAllowed ? 'block' : 'none';\n",
              "\n",
              "        async function convertToInteractive(key) {\n",
              "          const element = document.querySelector('#df-2a0b8ff1-1097-4ce8-b86f-9a33dc91f949');\n",
              "          const dataTable =\n",
              "            await google.colab.kernel.invokeFunction('convertToInteractive',\n",
              "                                                     [key], {});\n",
              "          if (!dataTable) return;\n",
              "\n",
              "          const docLinkHtml = 'Like what you see? Visit the ' +\n",
              "            '<a target=\"_blank\" href=https://colab.research.google.com/notebooks/data_table.ipynb>data table notebook</a>'\n",
              "            + ' to learn more about interactive tables.';\n",
              "          element.innerHTML = '';\n",
              "          dataTable['output_type'] = 'display_data';\n",
              "          await google.colab.output.renderOutput(dataTable, element);\n",
              "          const docLink = document.createElement('div');\n",
              "          docLink.innerHTML = docLinkHtml;\n",
              "          element.appendChild(docLink);\n",
              "        }\n",
              "      </script>\n",
              "    </div>\n",
              "  </div>\n",
              "  "
            ]
          },
          "metadata": {},
          "execution_count": 8
        }
      ],
      "source": [
        "my_df.describe()"
      ]
    },
    {
      "cell_type": "markdown",
      "metadata": {
        "id": "AN5FDhM3yzN2"
      },
      "source": [
        "IF YOU WANT TO DISPLAY SOME PART OF INFORMATION IN THE ENTIRE DATASET (or) DATAFRAME\n",
        "\n",
        "    Done by loc[...] method\n",
        "\n",
        "    there are three ways to performe it..\n",
        "\n",
        "    1st-->\n",
        "      to display all cloumns within a specific row range\n",
        "        syntax--->dataframe_name.loc[row_start_index:row_end_index]\n",
        "        this will print from information of dataframe form index row_start to row_end-1\n",
        "    2nd-->\n",
        "      to display specific column values within specific row range\n",
        "      syntax--->dataframe_name.loc[startindex:end_index,[col1,col2..]]\n",
        "    3rd-->\n",
        "      to display specific rows or combination of rows and colummns\n",
        "      dataframe_name.loc[[row1,row2...]]\n",
        "             or\n",
        "      dataframe_name.loc[[row1,row2..],[col1,col2,clo3...]]\n",
        "Finally we can say that loc method is used to display certain rows over\n",
        "a specific colummns"
      ]
    },
    {
      "cell_type": "code",
      "execution_count": null,
      "metadata": {
        "id": "OJvd-n4K1M18",
        "colab": {
          "base_uri": "https://localhost:8080/"
        },
        "outputId": "fcbbe6c6-c8a4-402b-e91e-d621c6acfbee"
      },
      "outputs": [
        {
          "output_type": "stream",
          "name": "stdout",
          "text": [
            "   Cars  Price\n",
            "0   Bmw    200\n",
            "1  ford    300\n",
            "2  benz    400\n",
            "------------\n",
            "   Cars  Price\n",
            "0   Bmw    200\n",
            "1  ford    300\n",
            "----------\n",
            "   Cars\n",
            "0   Bmw\n",
            "1  ford\n",
            "2  benz\n",
            "-----------\n",
            "   Cars  Price\n",
            "0   Bmw    200\n",
            "2  benz    400\n"
          ]
        }
      ],
      "source": [
        "print(my_df)\n",
        "print(\"------------\")\n",
        "print(my_df.loc[0:1])\n",
        "print(\"----------\")\n",
        "print(my_df.loc[0:2,['Cars']])\n",
        "print(\"-----------\")\n",
        "print(my_df.loc[[0,2],['Cars','Price']])"
      ]
    },
    {
      "cell_type": "markdown",
      "metadata": {
        "id": "b0m2kq4i26eU"
      },
      "source": [
        "MERGING\n",
        "    \n",
        "  ------>Merging of two dataframes is done by si,ilar columns\n",
        "  \n",
        "  ----->Merging is nothing but intersection of two data frames based on smilar columns\n",
        "\n",
        "EXAMPLE-->"
      ]
    },
    {
      "cell_type": "code",
      "execution_count": null,
      "metadata": {
        "id": "l3saTUG93rYv",
        "colab": {
          "base_uri": "https://localhost:8080/"
        },
        "outputId": "db265c24-c641-498c-bbd8-af5f97aa0168"
      },
      "outputs": [
        {
          "output_type": "stream",
          "name": "stdout",
          "text": [
            "  car_name_high  price\n",
            "0           BMW    200\n",
            "1          FORD    300\n",
            "2          BENZ    400\n",
            "___________________________\n",
            "  car_name_low  price\n",
            "0      Maruthi    100\n",
            "1        Shift    300\n",
            "2     Hayundai    400\n",
            "___________________________\n",
            "  car_name_high  price car_name_low\n",
            "0          FORD    300        Shift\n",
            "1          BENZ    400     Hayundai\n"
          ]
        }
      ],
      "source": [
        "import pandas as pd\n",
        "data1={\n",
        "    'car_name_high':[\"BMW\",\"FORD\",\"BENZ\"],\n",
        "    'price':[200,300,400]\n",
        "}\n",
        "data2={\n",
        "    'car_name_low':[\"Maruthi\",\"Shift\",\"Hayundai\"],\n",
        "    'price':[100,300,400]\n",
        "}\n",
        "my_dt1=pd.DataFrame(data1)\n",
        "my_dt2=pd.DataFrame(data2)\n",
        "print(my_dt1)\n",
        "print(\"___________________________\")\n",
        "print(my_dt2)\n",
        "print(\"___________________________\")\n",
        "my_dt=pd.merge(my_dt1,my_dt2,on=\"price\")\n",
        "print(my_dt)"
      ]
    },
    {
      "cell_type": "markdown",
      "metadata": {
        "id": "Ye8IAfceDP4w"
      },
      "source": [
        "GROUPING\n",
        "   \n",
        "    it is done by 'groupby()' method \n",
        "    it is used to retrive the groups from a dataframe on certain colummna based on their values\n",
        "\n",
        "EXAMPLE--->"
      ]
    },
    {
      "cell_type": "code",
      "execution_count": null,
      "metadata": {
        "id": "5b6Zn3pUDzui",
        "colab": {
          "base_uri": "https://localhost:8080/"
        },
        "outputId": "b2fb6cd8-0310-432b-bf5a-8d3a8039ef76"
      },
      "outputs": [
        {
          "output_type": "stream",
          "name": "stdout",
          "text": [
            "      cars  price\n",
            "0      bmw    100\n",
            "1     ford    200\n",
            "2     benz    300\n",
            "3    shift    300\n",
            "4  hundayi    300\n",
            "5  leapord    400\n"
          ]
        }
      ],
      "source": [
        "data3={\n",
        "    'cars':['bmw','ford','benz','shift','hundayi','leapord'],\n",
        "    'price':[100,200,300,300,300,400]\n",
        "}\n",
        "my_data3=pd.DataFrame(data3)\n",
        "print(my_data3)"
      ]
    },
    {
      "cell_type": "code",
      "execution_count": null,
      "metadata": {
        "colab": {
          "base_uri": "https://localhost:8080/"
        },
        "id": "eRf1_8UdE6uj",
        "outputId": "acc0ccfb-2038-49a8-b499-1c0b315cdca1"
      },
      "outputs": [
        {
          "output_type": "stream",
          "name": "stdout",
          "text": [
            "      cars  price\n",
            "2     benz    300\n",
            "3    shift    300\n",
            "4  hundayi    300\n"
          ]
        }
      ],
      "source": [
        "req_price=my_data3.groupby('price')\n",
        "print(req_price.get_group(300))"
      ]
    },
    {
      "cell_type": "markdown",
      "metadata": {
        "id": "8mItX7iWFTEd"
      },
      "source": [
        "CONCATING\n",
        "\n",
        "     It is nothing but joining (or) conatination of two dataframes"
      ]
    },
    {
      "cell_type": "code",
      "execution_count": null,
      "metadata": {
        "id": "zKstaaDyGaba",
        "colab": {
          "base_uri": "https://localhost:8080/"
        },
        "outputId": "a1670503-aa67-46ad-ab34-62b2093a1b7b"
      },
      "outputs": [
        {
          "output_type": "stream",
          "name": "stdout",
          "text": [
            "  car_names  price\n",
            "0       bmw    100\n",
            "1      ford    200\n",
            "2      benz    300\n",
            "0   maruthi    300\n",
            "1   hundayi    400\n",
            "2     shift    500\n",
            "---------------------------\n",
            "  car_names  price car_names  price\n",
            "0       bmw    100   maruthi    300\n",
            "1      ford    200   hundayi    400\n",
            "2      benz    300     shift    500\n"
          ]
        }
      ],
      "source": [
        "df3={\n",
        "    'car_names':[\"bmw\",\"ford\",\"benz\"],\n",
        "     'price':[100,200,300]\n",
        "}\n",
        "df4={\n",
        "    'car_names':[\"maruthi\",\"hundayi\",'shift'],\n",
        "     'price':[300,400,500]\n",
        "}\n",
        "my_df3=pd.DataFrame(df3)\n",
        "my_df4=pd.DataFrame(df4)\n",
        "print(pd.concat([my_df3,my_df4]))\n",
        "print(\"---------------------------\")\n",
        "print(pd.concat([my_df3,my_df4],axis=1))"
      ]
    },
    {
      "cell_type": "code",
      "execution_count": null,
      "metadata": {
        "colab": {
          "base_uri": "https://localhost:8080/"
        },
        "id": "PZyGgNsaFpZ2",
        "outputId": "e198a7fc-43b9-40cf-f773-4c1c9f35ac9f"
      },
      "outputs": [
        {
          "output_type": "stream",
          "name": "stdout",
          "text": [
            "  car_name_high  price car_name_low\n",
            "0           BMW    200          NaN\n",
            "1          FORD    300          NaN\n",
            "2          BENZ    400          NaN\n",
            "0           NaN    100      Maruthi\n",
            "1           NaN    300        Shift\n",
            "2           NaN    400     Hayundai\n"
          ]
        }
      ],
      "source": [
        "#Consider data1 and data2 datas\n",
        "total=pd.concat([my_dt1,my_dt2])\n",
        "print(total)"
      ]
    },
    {
      "cell_type": "code",
      "execution_count": null,
      "metadata": {
        "id": "e_5W1p-AICtY",
        "colab": {
          "base_uri": "https://localhost:8080/"
        },
        "outputId": "85cbd2a6-83ee-44c5-9bff-491b61429f43"
      },
      "outputs": [
        {
          "output_type": "stream",
          "name": "stdout",
          "text": [
            "     age  gender  miles   debt  income  sales\n",
            "0     28       0     23      0    4099    620\n",
            "1     26       0     27      0    2677   1792\n",
            "2     30       1     58  41576    6215  27754\n",
            "3     26       1     25  43172    7626  28256\n",
            "4     20       1     17   6979    8071   4438\n",
            "..   ...     ...    ...    ...     ...    ...\n",
            "958   22       0     11   8778    9829   1593\n",
            "959   19       1     23   4850    3470   4742\n",
            "960   28       1     28   9312    2720  12771\n",
            "961   50       0     29  51343    8713  28511\n",
            "962   47       1     15   3735    6406   6104\n",
            "\n",
            "[963 rows x 6 columns]\n"
          ]
        }
      ],
      "source": [
        "#TO READ A CSV FILE WHICH CONSIST OF A DATA IN THE FORMATE OF DATASET\n",
        "data4=pd.read_csv(\"/content/cars.csv\")\n",
        "print(data4)"
      ]
    },
    {
      "cell_type": "code",
      "execution_count": null,
      "metadata": {
        "id": "uC9AHqunIi0S",
        "colab": {
          "base_uri": "https://localhost:8080/"
        },
        "outputId": "0e02520e-26f0-4f91-887b-482d7219653f"
      },
      "outputs": [
        {
          "output_type": "stream",
          "name": "stdout",
          "text": [
            "   age  gender  miles   debt  income  sales\n",
            "0   28       0     23      0    4099    620\n",
            "1   26       0     27      0    2677   1792\n",
            "2   30       1     58  41576    6215  27754\n",
            "3   26       1     25  43172    7626  28256\n",
            "4   20       1     17   6979    8071   4438\n",
            "<<<<<----------------------------------------------------------------------------->>>>>\n",
            "   age  gender  miles   debt  income  sales\n",
            "0   28       0     23      0    4099    620\n",
            "1   26       0     27      0    2677   1792\n",
            "2   30       1     58  41576    6215  27754\n",
            "3   26       1     25  43172    7626  28256\n",
            "4   20       1     17   6979    8071   4438\n",
            "5   58       1     18      0    1262   2102\n",
            "6   44       1     17    418    7017   8520\n",
            "7   39       1     28      0    3282    500\n",
            "8   44       0     24  48724    9980  22997\n",
            "9   46       1     46  57827    8163  26517\n"
          ]
        }
      ],
      "source": [
        "#head() method\n",
        "print(data4.head())\n",
        "print(\"<<<<<----------------------------------------------------------------------------->>>>>\")\n",
        "print(data4.head(10))"
      ]
    },
    {
      "cell_type": "code",
      "execution_count": null,
      "metadata": {
        "id": "YUQ1hrOCI7dl",
        "colab": {
          "base_uri": "https://localhost:8080/"
        },
        "outputId": "303b8a6d-f677-413d-944e-72bc075ca082"
      },
      "outputs": [
        {
          "output_type": "stream",
          "name": "stdout",
          "text": [
            "     age  gender  miles   debt  income  sales\n",
            "958   22       0     11   8778    9829   1593\n",
            "959   19       1     23   4850    3470   4742\n",
            "960   28       1     28   9312    2720  12771\n",
            "961   50       0     29  51343    8713  28511\n",
            "962   47       1     15   3735    6406   6104\n",
            "<<<<<----------------------------------------------------------------------------->>>>>\n",
            "     age  gender  miles   debt  income  sales\n",
            "953   44       1     18   8989    4249   5947\n",
            "954   58       0     17   6493    7095  12830\n",
            "955   53       0     23   3574    2189   5888\n",
            "956   58       0     23   5842    6019   9130\n",
            "957   36       0     27   7133   11292  18062\n",
            "958   22       0     11   8778    9829   1593\n",
            "959   19       1     23   4850    3470   4742\n",
            "960   28       1     28   9312    2720  12771\n",
            "961   50       0     29  51343    8713  28511\n",
            "962   47       1     15   3735    6406   6104\n"
          ]
        }
      ],
      "source": [
        "#tail() method\n",
        "print(data4.tail())\n",
        "print(\"<<<<<----------------------------------------------------------------------------->>>>>\")\n",
        "print(data4.tail(10))"
      ]
    },
    {
      "cell_type": "code",
      "execution_count": null,
      "metadata": {
        "id": "U7K2golLJJG_",
        "colab": {
          "base_uri": "https://localhost:8080/"
        },
        "outputId": "3431c6b4-baff-4ec5-ff03-f6358bb88990"
      },
      "outputs": [
        {
          "output_type": "execute_result",
          "data": {
            "text/plain": [
              "0      28\n",
              "1      26\n",
              "2      30\n",
              "3      26\n",
              "4      20\n",
              "       ..\n",
              "958    22\n",
              "959    19\n",
              "960    28\n",
              "961    50\n",
              "962    47\n",
              "Name: age, Length: 963, dtype: int64"
            ]
          },
          "metadata": {},
          "execution_count": 20
        }
      ],
      "source": [
        "#Retriving of values\n",
        "data4['age']"
      ]
    },
    {
      "cell_type": "code",
      "execution_count": null,
      "metadata": {
        "id": "10QfUdLgJU92",
        "colab": {
          "base_uri": "https://localhost:8080/",
          "height": 237
        },
        "outputId": "02668145-602a-4561-9fad-b12c72a96676"
      },
      "outputs": [
        {
          "output_type": "execute_result",
          "data": {
            "text/plain": [
              "   age  gender\n",
              "0   28       0\n",
              "1   26       0\n",
              "2   30       1\n",
              "3   26       1\n",
              "4   20       1\n",
              "5   58       1"
            ],
            "text/html": [
              "\n",
              "  <div id=\"df-d83739d7-1eb5-4941-9720-3ccb90a442b6\">\n",
              "    <div class=\"colab-df-container\">\n",
              "      <div>\n",
              "<style scoped>\n",
              "    .dataframe tbody tr th:only-of-type {\n",
              "        vertical-align: middle;\n",
              "    }\n",
              "\n",
              "    .dataframe tbody tr th {\n",
              "        vertical-align: top;\n",
              "    }\n",
              "\n",
              "    .dataframe thead th {\n",
              "        text-align: right;\n",
              "    }\n",
              "</style>\n",
              "<table border=\"1\" class=\"dataframe\">\n",
              "  <thead>\n",
              "    <tr style=\"text-align: right;\">\n",
              "      <th></th>\n",
              "      <th>age</th>\n",
              "      <th>gender</th>\n",
              "    </tr>\n",
              "  </thead>\n",
              "  <tbody>\n",
              "    <tr>\n",
              "      <th>0</th>\n",
              "      <td>28</td>\n",
              "      <td>0</td>\n",
              "    </tr>\n",
              "    <tr>\n",
              "      <th>1</th>\n",
              "      <td>26</td>\n",
              "      <td>0</td>\n",
              "    </tr>\n",
              "    <tr>\n",
              "      <th>2</th>\n",
              "      <td>30</td>\n",
              "      <td>1</td>\n",
              "    </tr>\n",
              "    <tr>\n",
              "      <th>3</th>\n",
              "      <td>26</td>\n",
              "      <td>1</td>\n",
              "    </tr>\n",
              "    <tr>\n",
              "      <th>4</th>\n",
              "      <td>20</td>\n",
              "      <td>1</td>\n",
              "    </tr>\n",
              "    <tr>\n",
              "      <th>5</th>\n",
              "      <td>58</td>\n",
              "      <td>1</td>\n",
              "    </tr>\n",
              "  </tbody>\n",
              "</table>\n",
              "</div>\n",
              "      <button class=\"colab-df-convert\" onclick=\"convertToInteractive('df-d83739d7-1eb5-4941-9720-3ccb90a442b6')\"\n",
              "              title=\"Convert this dataframe to an interactive table.\"\n",
              "              style=\"display:none;\">\n",
              "        \n",
              "  <svg xmlns=\"http://www.w3.org/2000/svg\" height=\"24px\"viewBox=\"0 0 24 24\"\n",
              "       width=\"24px\">\n",
              "    <path d=\"M0 0h24v24H0V0z\" fill=\"none\"/>\n",
              "    <path d=\"M18.56 5.44l.94 2.06.94-2.06 2.06-.94-2.06-.94-.94-2.06-.94 2.06-2.06.94zm-11 1L8.5 8.5l.94-2.06 2.06-.94-2.06-.94L8.5 2.5l-.94 2.06-2.06.94zm10 10l.94 2.06.94-2.06 2.06-.94-2.06-.94-.94-2.06-.94 2.06-2.06.94z\"/><path d=\"M17.41 7.96l-1.37-1.37c-.4-.4-.92-.59-1.43-.59-.52 0-1.04.2-1.43.59L10.3 9.45l-7.72 7.72c-.78.78-.78 2.05 0 2.83L4 21.41c.39.39.9.59 1.41.59.51 0 1.02-.2 1.41-.59l7.78-7.78 2.81-2.81c.8-.78.8-2.07 0-2.86zM5.41 20L4 18.59l7.72-7.72 1.47 1.35L5.41 20z\"/>\n",
              "  </svg>\n",
              "      </button>\n",
              "      \n",
              "  <style>\n",
              "    .colab-df-container {\n",
              "      display:flex;\n",
              "      flex-wrap:wrap;\n",
              "      gap: 12px;\n",
              "    }\n",
              "\n",
              "    .colab-df-convert {\n",
              "      background-color: #E8F0FE;\n",
              "      border: none;\n",
              "      border-radius: 50%;\n",
              "      cursor: pointer;\n",
              "      display: none;\n",
              "      fill: #1967D2;\n",
              "      height: 32px;\n",
              "      padding: 0 0 0 0;\n",
              "      width: 32px;\n",
              "    }\n",
              "\n",
              "    .colab-df-convert:hover {\n",
              "      background-color: #E2EBFA;\n",
              "      box-shadow: 0px 1px 2px rgba(60, 64, 67, 0.3), 0px 1px 3px 1px rgba(60, 64, 67, 0.15);\n",
              "      fill: #174EA6;\n",
              "    }\n",
              "\n",
              "    [theme=dark] .colab-df-convert {\n",
              "      background-color: #3B4455;\n",
              "      fill: #D2E3FC;\n",
              "    }\n",
              "\n",
              "    [theme=dark] .colab-df-convert:hover {\n",
              "      background-color: #434B5C;\n",
              "      box-shadow: 0px 1px 3px 1px rgba(0, 0, 0, 0.15);\n",
              "      filter: drop-shadow(0px 1px 2px rgba(0, 0, 0, 0.3));\n",
              "      fill: #FFFFFF;\n",
              "    }\n",
              "  </style>\n",
              "\n",
              "      <script>\n",
              "        const buttonEl =\n",
              "          document.querySelector('#df-d83739d7-1eb5-4941-9720-3ccb90a442b6 button.colab-df-convert');\n",
              "        buttonEl.style.display =\n",
              "          google.colab.kernel.accessAllowed ? 'block' : 'none';\n",
              "\n",
              "        async function convertToInteractive(key) {\n",
              "          const element = document.querySelector('#df-d83739d7-1eb5-4941-9720-3ccb90a442b6');\n",
              "          const dataTable =\n",
              "            await google.colab.kernel.invokeFunction('convertToInteractive',\n",
              "                                                     [key], {});\n",
              "          if (!dataTable) return;\n",
              "\n",
              "          const docLinkHtml = 'Like what you see? Visit the ' +\n",
              "            '<a target=\"_blank\" href=https://colab.research.google.com/notebooks/data_table.ipynb>data table notebook</a>'\n",
              "            + ' to learn more about interactive tables.';\n",
              "          element.innerHTML = '';\n",
              "          dataTable['output_type'] = 'display_data';\n",
              "          await google.colab.output.renderOutput(dataTable, element);\n",
              "          const docLink = document.createElement('div');\n",
              "          docLink.innerHTML = docLinkHtml;\n",
              "          element.appendChild(docLink);\n",
              "        }\n",
              "      </script>\n",
              "    </div>\n",
              "  </div>\n",
              "  "
            ]
          },
          "metadata": {},
          "execution_count": 21
        }
      ],
      "source": [
        "data4.loc[0:5,['age','gender']]"
      ]
    },
    {
      "cell_type": "markdown",
      "metadata": {
        "id": "cGVmHjsSLGVK"
      },
      "source": [
        "DATA CLEANING\n",
        "\n",
        "REMOVING OF USELESS DATA\n",
        "    \n",
        "    ----- EMPTY CELLS\n",
        "    -----WRONG DATA\n",
        "    -----DUPLICATE DATA"
      ]
    },
    {
      "cell_type": "markdown",
      "metadata": {
        "id": "8pOY4xPPNUYx"
      },
      "source": [
        "1.)HOW TO CLEAN EMPTY CELLS\n",
        "  \n",
        "    ----BY REMOVING\n",
        "    ----BY REPLACING"
      ]
    },
    {
      "cell_type": "code",
      "execution_count": null,
      "metadata": {
        "id": "oVge3wtaN_yM",
        "colab": {
          "base_uri": "https://localhost:8080/",
          "height": 237
        },
        "outputId": "b587f005-5571-453d-f3f7-9a255bc7ce58"
      },
      "outputs": [
        {
          "output_type": "execute_result",
          "data": {
            "text/plain": [
              "  car_name_high  price car_name_low\n",
              "0           BMW    200          NaN\n",
              "1          FORD    300          NaN\n",
              "2          BENZ    400          NaN\n",
              "0           NaN    100      Maruthi\n",
              "1           NaN    300        Shift\n",
              "2           NaN    400     Hayundai"
            ],
            "text/html": [
              "\n",
              "  <div id=\"df-c0e45ea9-e1bc-42d8-aba7-8f5ec1bcfe67\">\n",
              "    <div class=\"colab-df-container\">\n",
              "      <div>\n",
              "<style scoped>\n",
              "    .dataframe tbody tr th:only-of-type {\n",
              "        vertical-align: middle;\n",
              "    }\n",
              "\n",
              "    .dataframe tbody tr th {\n",
              "        vertical-align: top;\n",
              "    }\n",
              "\n",
              "    .dataframe thead th {\n",
              "        text-align: right;\n",
              "    }\n",
              "</style>\n",
              "<table border=\"1\" class=\"dataframe\">\n",
              "  <thead>\n",
              "    <tr style=\"text-align: right;\">\n",
              "      <th></th>\n",
              "      <th>car_name_high</th>\n",
              "      <th>price</th>\n",
              "      <th>car_name_low</th>\n",
              "    </tr>\n",
              "  </thead>\n",
              "  <tbody>\n",
              "    <tr>\n",
              "      <th>0</th>\n",
              "      <td>BMW</td>\n",
              "      <td>200</td>\n",
              "      <td>NaN</td>\n",
              "    </tr>\n",
              "    <tr>\n",
              "      <th>1</th>\n",
              "      <td>FORD</td>\n",
              "      <td>300</td>\n",
              "      <td>NaN</td>\n",
              "    </tr>\n",
              "    <tr>\n",
              "      <th>2</th>\n",
              "      <td>BENZ</td>\n",
              "      <td>400</td>\n",
              "      <td>NaN</td>\n",
              "    </tr>\n",
              "    <tr>\n",
              "      <th>0</th>\n",
              "      <td>NaN</td>\n",
              "      <td>100</td>\n",
              "      <td>Maruthi</td>\n",
              "    </tr>\n",
              "    <tr>\n",
              "      <th>1</th>\n",
              "      <td>NaN</td>\n",
              "      <td>300</td>\n",
              "      <td>Shift</td>\n",
              "    </tr>\n",
              "    <tr>\n",
              "      <th>2</th>\n",
              "      <td>NaN</td>\n",
              "      <td>400</td>\n",
              "      <td>Hayundai</td>\n",
              "    </tr>\n",
              "  </tbody>\n",
              "</table>\n",
              "</div>\n",
              "      <button class=\"colab-df-convert\" onclick=\"convertToInteractive('df-c0e45ea9-e1bc-42d8-aba7-8f5ec1bcfe67')\"\n",
              "              title=\"Convert this dataframe to an interactive table.\"\n",
              "              style=\"display:none;\">\n",
              "        \n",
              "  <svg xmlns=\"http://www.w3.org/2000/svg\" height=\"24px\"viewBox=\"0 0 24 24\"\n",
              "       width=\"24px\">\n",
              "    <path d=\"M0 0h24v24H0V0z\" fill=\"none\"/>\n",
              "    <path d=\"M18.56 5.44l.94 2.06.94-2.06 2.06-.94-2.06-.94-.94-2.06-.94 2.06-2.06.94zm-11 1L8.5 8.5l.94-2.06 2.06-.94-2.06-.94L8.5 2.5l-.94 2.06-2.06.94zm10 10l.94 2.06.94-2.06 2.06-.94-2.06-.94-.94-2.06-.94 2.06-2.06.94z\"/><path d=\"M17.41 7.96l-1.37-1.37c-.4-.4-.92-.59-1.43-.59-.52 0-1.04.2-1.43.59L10.3 9.45l-7.72 7.72c-.78.78-.78 2.05 0 2.83L4 21.41c.39.39.9.59 1.41.59.51 0 1.02-.2 1.41-.59l7.78-7.78 2.81-2.81c.8-.78.8-2.07 0-2.86zM5.41 20L4 18.59l7.72-7.72 1.47 1.35L5.41 20z\"/>\n",
              "  </svg>\n",
              "      </button>\n",
              "      \n",
              "  <style>\n",
              "    .colab-df-container {\n",
              "      display:flex;\n",
              "      flex-wrap:wrap;\n",
              "      gap: 12px;\n",
              "    }\n",
              "\n",
              "    .colab-df-convert {\n",
              "      background-color: #E8F0FE;\n",
              "      border: none;\n",
              "      border-radius: 50%;\n",
              "      cursor: pointer;\n",
              "      display: none;\n",
              "      fill: #1967D2;\n",
              "      height: 32px;\n",
              "      padding: 0 0 0 0;\n",
              "      width: 32px;\n",
              "    }\n",
              "\n",
              "    .colab-df-convert:hover {\n",
              "      background-color: #E2EBFA;\n",
              "      box-shadow: 0px 1px 2px rgba(60, 64, 67, 0.3), 0px 1px 3px 1px rgba(60, 64, 67, 0.15);\n",
              "      fill: #174EA6;\n",
              "    }\n",
              "\n",
              "    [theme=dark] .colab-df-convert {\n",
              "      background-color: #3B4455;\n",
              "      fill: #D2E3FC;\n",
              "    }\n",
              "\n",
              "    [theme=dark] .colab-df-convert:hover {\n",
              "      background-color: #434B5C;\n",
              "      box-shadow: 0px 1px 3px 1px rgba(0, 0, 0, 0.15);\n",
              "      filter: drop-shadow(0px 1px 2px rgba(0, 0, 0, 0.3));\n",
              "      fill: #FFFFFF;\n",
              "    }\n",
              "  </style>\n",
              "\n",
              "      <script>\n",
              "        const buttonEl =\n",
              "          document.querySelector('#df-c0e45ea9-e1bc-42d8-aba7-8f5ec1bcfe67 button.colab-df-convert');\n",
              "        buttonEl.style.display =\n",
              "          google.colab.kernel.accessAllowed ? 'block' : 'none';\n",
              "\n",
              "        async function convertToInteractive(key) {\n",
              "          const element = document.querySelector('#df-c0e45ea9-e1bc-42d8-aba7-8f5ec1bcfe67');\n",
              "          const dataTable =\n",
              "            await google.colab.kernel.invokeFunction('convertToInteractive',\n",
              "                                                     [key], {});\n",
              "          if (!dataTable) return;\n",
              "\n",
              "          const docLinkHtml = 'Like what you see? Visit the ' +\n",
              "            '<a target=\"_blank\" href=https://colab.research.google.com/notebooks/data_table.ipynb>data table notebook</a>'\n",
              "            + ' to learn more about interactive tables.';\n",
              "          element.innerHTML = '';\n",
              "          dataTable['output_type'] = 'display_data';\n",
              "          await google.colab.output.renderOutput(dataTable, element);\n",
              "          const docLink = document.createElement('div');\n",
              "          docLink.innerHTML = docLinkHtml;\n",
              "          element.appendChild(docLink);\n",
              "        }\n",
              "      </script>\n",
              "    </div>\n",
              "  </div>\n",
              "  "
            ]
          },
          "metadata": {},
          "execution_count": 22
        }
      ],
      "source": [
        "#Consider a small data frame\n",
        "total"
      ]
    },
    {
      "cell_type": "markdown",
      "metadata": {
        "id": "zAgoE7qcNraE"
      },
      "source": [
        "REMOVING OF ROWS------>EXAMPLE"
      ]
    },
    {
      "cell_type": "code",
      "execution_count": null,
      "metadata": {
        "id": "Z6DrgYpLN3Ai",
        "colab": {
          "base_uri": "https://localhost:8080/"
        },
        "outputId": "b62059f8-8518-4f3a-d35e-399153120133"
      },
      "outputs": [
        {
          "output_type": "stream",
          "name": "stdout",
          "text": [
            "Empty DataFrame\n",
            "Columns: [car_name_high, price, car_name_low]\n",
            "Index: []\n"
          ]
        }
      ],
      "source": [
        "new_df=total.dropna()\n",
        "print(new_df)\n",
        "#CREATES A NEW DATA FRAME"
      ]
    },
    {
      "cell_type": "code",
      "execution_count": null,
      "metadata": {
        "id": "bpz3SPzsO5Mx",
        "colab": {
          "base_uri": "https://localhost:8080/"
        },
        "outputId": "a6ca190c-28fc-474e-dab5-0f16a887984b"
      },
      "outputs": [
        {
          "output_type": "stream",
          "name": "stdout",
          "text": [
            "Empty DataFrame\n",
            "Columns: [car_name_high, price, car_name_low]\n",
            "Index: []\n"
          ]
        }
      ],
      "source": [
        "#In order to clean in same data frame\n",
        "#inplace argument with True as value\n",
        "total.dropna(inplace=True)\n",
        "print(total)"
      ]
    },
    {
      "cell_type": "code",
      "execution_count": null,
      "metadata": {
        "id": "F5KWPpX6QVOB",
        "colab": {
          "base_uri": "https://localhost:8080/"
        },
        "outputId": "4ff168e3-ed43-4931-855d-9d385eda93a1"
      },
      "outputs": [
        {
          "output_type": "stream",
          "name": "stdout",
          "text": [
            "  car_name_high  price car_name_low\n",
            "0           BMW    200          NaN\n",
            "1          FORD    300          NaN\n",
            "2          BENZ    400          NaN\n",
            "0           NaN    100      Maruthi\n",
            "1           NaN    300        Shift\n",
            "2           NaN    400     Hayundai\n"
          ]
        }
      ],
      "source": [
        "total=pd.concat([my_dt1,my_dt2])\n",
        "print(total)"
      ]
    },
    {
      "cell_type": "markdown",
      "metadata": {
        "id": "tXSEyA6LOqJG"
      },
      "source": [
        "REPLACING OF EMPTY CELLLS"
      ]
    },
    {
      "cell_type": "code",
      "execution_count": null,
      "metadata": {
        "id": "CVwhn6LDOw7F",
        "colab": {
          "base_uri": "https://localhost:8080/"
        },
        "outputId": "bf44bb18-e3cb-4376-ed86-6f363958d294"
      },
      "outputs": [
        {
          "output_type": "stream",
          "name": "stdout",
          "text": [
            "  car_name_high  price car_name_low\n",
            "0           BMW    200          car\n",
            "1          FORD    300          car\n",
            "2          BENZ    400          car\n",
            "0           car    100      Maruthi\n",
            "1           car    300        Shift\n",
            "2           car    400     Hayundai\n"
          ]
        }
      ],
      "source": [
        "#It is not required to remove the entire row\n",
        "total.fillna(\"car\",inplace=True)\n",
        "print(total)\n",
        "#syntax--->dataframe_name.fillna(value,inplace=True)"
      ]
    },
    {
      "cell_type": "markdown",
      "metadata": {
        "id": "AlQUojtXRl7-"
      },
      "source": [
        "2.)HOW TO CLEAN WRONG DATA\n",
        " \n",
        " ---------Wrong data means having a value instead of another value\n",
        " \n",
        " ---------by replacing that wrong value data can be cleaned\n",
        "\n",
        " --------- by  row index (or) row name and column index (or) column name\n"
      ]
    },
    {
      "cell_type": "code",
      "execution_count": null,
      "metadata": {
        "id": "PjY4upS3SSd5",
        "colab": {
          "base_uri": "https://localhost:8080/",
          "height": 237
        },
        "outputId": "7a92e180-724f-4cc0-d0f8-332fc3dd0826"
      },
      "outputs": [
        {
          "output_type": "execute_result",
          "data": {
            "text/plain": [
              "  car_name_high  price car_name_low\n",
              "0        FERARI    200          car\n",
              "1          FORD    300          car\n",
              "2          BENZ    400          car\n",
              "0        FERARI    100      Maruthi\n",
              "1           car    300        Shift\n",
              "2           car    400     Hayundai"
            ],
            "text/html": [
              "\n",
              "  <div id=\"df-965738c1-06a5-4a19-b1ab-650635b9c1cd\">\n",
              "    <div class=\"colab-df-container\">\n",
              "      <div>\n",
              "<style scoped>\n",
              "    .dataframe tbody tr th:only-of-type {\n",
              "        vertical-align: middle;\n",
              "    }\n",
              "\n",
              "    .dataframe tbody tr th {\n",
              "        vertical-align: top;\n",
              "    }\n",
              "\n",
              "    .dataframe thead th {\n",
              "        text-align: right;\n",
              "    }\n",
              "</style>\n",
              "<table border=\"1\" class=\"dataframe\">\n",
              "  <thead>\n",
              "    <tr style=\"text-align: right;\">\n",
              "      <th></th>\n",
              "      <th>car_name_high</th>\n",
              "      <th>price</th>\n",
              "      <th>car_name_low</th>\n",
              "    </tr>\n",
              "  </thead>\n",
              "  <tbody>\n",
              "    <tr>\n",
              "      <th>0</th>\n",
              "      <td>FERARI</td>\n",
              "      <td>200</td>\n",
              "      <td>car</td>\n",
              "    </tr>\n",
              "    <tr>\n",
              "      <th>1</th>\n",
              "      <td>FORD</td>\n",
              "      <td>300</td>\n",
              "      <td>car</td>\n",
              "    </tr>\n",
              "    <tr>\n",
              "      <th>2</th>\n",
              "      <td>BENZ</td>\n",
              "      <td>400</td>\n",
              "      <td>car</td>\n",
              "    </tr>\n",
              "    <tr>\n",
              "      <th>0</th>\n",
              "      <td>FERARI</td>\n",
              "      <td>100</td>\n",
              "      <td>Maruthi</td>\n",
              "    </tr>\n",
              "    <tr>\n",
              "      <th>1</th>\n",
              "      <td>car</td>\n",
              "      <td>300</td>\n",
              "      <td>Shift</td>\n",
              "    </tr>\n",
              "    <tr>\n",
              "      <th>2</th>\n",
              "      <td>car</td>\n",
              "      <td>400</td>\n",
              "      <td>Hayundai</td>\n",
              "    </tr>\n",
              "  </tbody>\n",
              "</table>\n",
              "</div>\n",
              "      <button class=\"colab-df-convert\" onclick=\"convertToInteractive('df-965738c1-06a5-4a19-b1ab-650635b9c1cd')\"\n",
              "              title=\"Convert this dataframe to an interactive table.\"\n",
              "              style=\"display:none;\">\n",
              "        \n",
              "  <svg xmlns=\"http://www.w3.org/2000/svg\" height=\"24px\"viewBox=\"0 0 24 24\"\n",
              "       width=\"24px\">\n",
              "    <path d=\"M0 0h24v24H0V0z\" fill=\"none\"/>\n",
              "    <path d=\"M18.56 5.44l.94 2.06.94-2.06 2.06-.94-2.06-.94-.94-2.06-.94 2.06-2.06.94zm-11 1L8.5 8.5l.94-2.06 2.06-.94-2.06-.94L8.5 2.5l-.94 2.06-2.06.94zm10 10l.94 2.06.94-2.06 2.06-.94-2.06-.94-.94-2.06-.94 2.06-2.06.94z\"/><path d=\"M17.41 7.96l-1.37-1.37c-.4-.4-.92-.59-1.43-.59-.52 0-1.04.2-1.43.59L10.3 9.45l-7.72 7.72c-.78.78-.78 2.05 0 2.83L4 21.41c.39.39.9.59 1.41.59.51 0 1.02-.2 1.41-.59l7.78-7.78 2.81-2.81c.8-.78.8-2.07 0-2.86zM5.41 20L4 18.59l7.72-7.72 1.47 1.35L5.41 20z\"/>\n",
              "  </svg>\n",
              "      </button>\n",
              "      \n",
              "  <style>\n",
              "    .colab-df-container {\n",
              "      display:flex;\n",
              "      flex-wrap:wrap;\n",
              "      gap: 12px;\n",
              "    }\n",
              "\n",
              "    .colab-df-convert {\n",
              "      background-color: #E8F0FE;\n",
              "      border: none;\n",
              "      border-radius: 50%;\n",
              "      cursor: pointer;\n",
              "      display: none;\n",
              "      fill: #1967D2;\n",
              "      height: 32px;\n",
              "      padding: 0 0 0 0;\n",
              "      width: 32px;\n",
              "    }\n",
              "\n",
              "    .colab-df-convert:hover {\n",
              "      background-color: #E2EBFA;\n",
              "      box-shadow: 0px 1px 2px rgba(60, 64, 67, 0.3), 0px 1px 3px 1px rgba(60, 64, 67, 0.15);\n",
              "      fill: #174EA6;\n",
              "    }\n",
              "\n",
              "    [theme=dark] .colab-df-convert {\n",
              "      background-color: #3B4455;\n",
              "      fill: #D2E3FC;\n",
              "    }\n",
              "\n",
              "    [theme=dark] .colab-df-convert:hover {\n",
              "      background-color: #434B5C;\n",
              "      box-shadow: 0px 1px 3px 1px rgba(0, 0, 0, 0.15);\n",
              "      filter: drop-shadow(0px 1px 2px rgba(0, 0, 0, 0.3));\n",
              "      fill: #FFFFFF;\n",
              "    }\n",
              "  </style>\n",
              "\n",
              "      <script>\n",
              "        const buttonEl =\n",
              "          document.querySelector('#df-965738c1-06a5-4a19-b1ab-650635b9c1cd button.colab-df-convert');\n",
              "        buttonEl.style.display =\n",
              "          google.colab.kernel.accessAllowed ? 'block' : 'none';\n",
              "\n",
              "        async function convertToInteractive(key) {\n",
              "          const element = document.querySelector('#df-965738c1-06a5-4a19-b1ab-650635b9c1cd');\n",
              "          const dataTable =\n",
              "            await google.colab.kernel.invokeFunction('convertToInteractive',\n",
              "                                                     [key], {});\n",
              "          if (!dataTable) return;\n",
              "\n",
              "          const docLinkHtml = 'Like what you see? Visit the ' +\n",
              "            '<a target=\"_blank\" href=https://colab.research.google.com/notebooks/data_table.ipynb>data table notebook</a>'\n",
              "            + ' to learn more about interactive tables.';\n",
              "          element.innerHTML = '';\n",
              "          dataTable['output_type'] = 'display_data';\n",
              "          await google.colab.output.renderOutput(dataTable, element);\n",
              "          const docLink = document.createElement('div');\n",
              "          docLink.innerHTML = docLinkHtml;\n",
              "          element.appendChild(docLink);\n",
              "        }\n",
              "      </script>\n",
              "    </div>\n",
              "  </div>\n",
              "  "
            ]
          },
          "metadata": {},
          "execution_count": 27
        }
      ],
      "source": [
        "total.loc[0,'car_name_high']=\"FERARI\"\n",
        "total"
      ]
    },
    {
      "cell_type": "markdown",
      "metadata": {
        "id": "duU68nBZS3kt"
      },
      "source": [
        "3.) HOW TO  REMOVE DUPLICATES FROM THE DATAFRAME"
      ]
    },
    {
      "cell_type": "code",
      "execution_count": null,
      "metadata": {
        "id": "xuxUX9LSTB2y",
        "colab": {
          "base_uri": "https://localhost:8080/",
          "height": 237
        },
        "outputId": "8a9abdfe-98c5-43ff-9457-3ef0d2bda763"
      },
      "outputs": [
        {
          "output_type": "execute_result",
          "data": {
            "text/plain": [
              "  car_name_high  price car_name_low\n",
              "0        FERARI    200          car\n",
              "1          FORD    300          car\n",
              "2          BENZ    400          car\n",
              "0        FERARI    100      Maruthi\n",
              "1           car    300        Shift\n",
              "2           car    400     Hayundai"
            ],
            "text/html": [
              "\n",
              "  <div id=\"df-4d5184f1-6856-46e0-ad12-b5eb419545ec\">\n",
              "    <div class=\"colab-df-container\">\n",
              "      <div>\n",
              "<style scoped>\n",
              "    .dataframe tbody tr th:only-of-type {\n",
              "        vertical-align: middle;\n",
              "    }\n",
              "\n",
              "    .dataframe tbody tr th {\n",
              "        vertical-align: top;\n",
              "    }\n",
              "\n",
              "    .dataframe thead th {\n",
              "        text-align: right;\n",
              "    }\n",
              "</style>\n",
              "<table border=\"1\" class=\"dataframe\">\n",
              "  <thead>\n",
              "    <tr style=\"text-align: right;\">\n",
              "      <th></th>\n",
              "      <th>car_name_high</th>\n",
              "      <th>price</th>\n",
              "      <th>car_name_low</th>\n",
              "    </tr>\n",
              "  </thead>\n",
              "  <tbody>\n",
              "    <tr>\n",
              "      <th>0</th>\n",
              "      <td>FERARI</td>\n",
              "      <td>200</td>\n",
              "      <td>car</td>\n",
              "    </tr>\n",
              "    <tr>\n",
              "      <th>1</th>\n",
              "      <td>FORD</td>\n",
              "      <td>300</td>\n",
              "      <td>car</td>\n",
              "    </tr>\n",
              "    <tr>\n",
              "      <th>2</th>\n",
              "      <td>BENZ</td>\n",
              "      <td>400</td>\n",
              "      <td>car</td>\n",
              "    </tr>\n",
              "    <tr>\n",
              "      <th>0</th>\n",
              "      <td>FERARI</td>\n",
              "      <td>100</td>\n",
              "      <td>Maruthi</td>\n",
              "    </tr>\n",
              "    <tr>\n",
              "      <th>1</th>\n",
              "      <td>car</td>\n",
              "      <td>300</td>\n",
              "      <td>Shift</td>\n",
              "    </tr>\n",
              "    <tr>\n",
              "      <th>2</th>\n",
              "      <td>car</td>\n",
              "      <td>400</td>\n",
              "      <td>Hayundai</td>\n",
              "    </tr>\n",
              "  </tbody>\n",
              "</table>\n",
              "</div>\n",
              "      <button class=\"colab-df-convert\" onclick=\"convertToInteractive('df-4d5184f1-6856-46e0-ad12-b5eb419545ec')\"\n",
              "              title=\"Convert this dataframe to an interactive table.\"\n",
              "              style=\"display:none;\">\n",
              "        \n",
              "  <svg xmlns=\"http://www.w3.org/2000/svg\" height=\"24px\"viewBox=\"0 0 24 24\"\n",
              "       width=\"24px\">\n",
              "    <path d=\"M0 0h24v24H0V0z\" fill=\"none\"/>\n",
              "    <path d=\"M18.56 5.44l.94 2.06.94-2.06 2.06-.94-2.06-.94-.94-2.06-.94 2.06-2.06.94zm-11 1L8.5 8.5l.94-2.06 2.06-.94-2.06-.94L8.5 2.5l-.94 2.06-2.06.94zm10 10l.94 2.06.94-2.06 2.06-.94-2.06-.94-.94-2.06-.94 2.06-2.06.94z\"/><path d=\"M17.41 7.96l-1.37-1.37c-.4-.4-.92-.59-1.43-.59-.52 0-1.04.2-1.43.59L10.3 9.45l-7.72 7.72c-.78.78-.78 2.05 0 2.83L4 21.41c.39.39.9.59 1.41.59.51 0 1.02-.2 1.41-.59l7.78-7.78 2.81-2.81c.8-.78.8-2.07 0-2.86zM5.41 20L4 18.59l7.72-7.72 1.47 1.35L5.41 20z\"/>\n",
              "  </svg>\n",
              "      </button>\n",
              "      \n",
              "  <style>\n",
              "    .colab-df-container {\n",
              "      display:flex;\n",
              "      flex-wrap:wrap;\n",
              "      gap: 12px;\n",
              "    }\n",
              "\n",
              "    .colab-df-convert {\n",
              "      background-color: #E8F0FE;\n",
              "      border: none;\n",
              "      border-radius: 50%;\n",
              "      cursor: pointer;\n",
              "      display: none;\n",
              "      fill: #1967D2;\n",
              "      height: 32px;\n",
              "      padding: 0 0 0 0;\n",
              "      width: 32px;\n",
              "    }\n",
              "\n",
              "    .colab-df-convert:hover {\n",
              "      background-color: #E2EBFA;\n",
              "      box-shadow: 0px 1px 2px rgba(60, 64, 67, 0.3), 0px 1px 3px 1px rgba(60, 64, 67, 0.15);\n",
              "      fill: #174EA6;\n",
              "    }\n",
              "\n",
              "    [theme=dark] .colab-df-convert {\n",
              "      background-color: #3B4455;\n",
              "      fill: #D2E3FC;\n",
              "    }\n",
              "\n",
              "    [theme=dark] .colab-df-convert:hover {\n",
              "      background-color: #434B5C;\n",
              "      box-shadow: 0px 1px 3px 1px rgba(0, 0, 0, 0.15);\n",
              "      filter: drop-shadow(0px 1px 2px rgba(0, 0, 0, 0.3));\n",
              "      fill: #FFFFFF;\n",
              "    }\n",
              "  </style>\n",
              "\n",
              "      <script>\n",
              "        const buttonEl =\n",
              "          document.querySelector('#df-4d5184f1-6856-46e0-ad12-b5eb419545ec button.colab-df-convert');\n",
              "        buttonEl.style.display =\n",
              "          google.colab.kernel.accessAllowed ? 'block' : 'none';\n",
              "\n",
              "        async function convertToInteractive(key) {\n",
              "          const element = document.querySelector('#df-4d5184f1-6856-46e0-ad12-b5eb419545ec');\n",
              "          const dataTable =\n",
              "            await google.colab.kernel.invokeFunction('convertToInteractive',\n",
              "                                                     [key], {});\n",
              "          if (!dataTable) return;\n",
              "\n",
              "          const docLinkHtml = 'Like what you see? Visit the ' +\n",
              "            '<a target=\"_blank\" href=https://colab.research.google.com/notebooks/data_table.ipynb>data table notebook</a>'\n",
              "            + ' to learn more about interactive tables.';\n",
              "          element.innerHTML = '';\n",
              "          dataTable['output_type'] = 'display_data';\n",
              "          await google.colab.output.renderOutput(dataTable, element);\n",
              "          const docLink = document.createElement('div');\n",
              "          docLink.innerHTML = docLinkHtml;\n",
              "          element.appendChild(docLink);\n",
              "        }\n",
              "      </script>\n",
              "    </div>\n",
              "  </div>\n",
              "  "
            ]
          },
          "metadata": {},
          "execution_count": 28
        }
      ],
      "source": [
        "#drop_duplicates() method is used to remove duplicates\n",
        "total.drop_duplicates(inplace=True)\n",
        "total\n",
        "#SYNTAX----->dataframe_name.drop_duplicates(inplace=True)"
      ]
    },
    {
      "cell_type": "code",
      "execution_count": null,
      "metadata": {
        "id": "Tv_DxQ7HT5Jh",
        "colab": {
          "base_uri": "https://localhost:8080/"
        },
        "outputId": "1b09f0c8-16fb-42f1-8618-6bde4cb18593"
      },
      "outputs": [
        {
          "output_type": "stream",
          "name": "stdout",
          "text": [
            "<class 'pandas.core.frame.DataFrame'>\n",
            "RangeIndex: 963 entries, 0 to 962\n",
            "Data columns (total 6 columns):\n",
            " #   Column  Non-Null Count  Dtype\n",
            "---  ------  --------------  -----\n",
            " 0   age     963 non-null    int64\n",
            " 1   gender  963 non-null    int64\n",
            " 2   miles   963 non-null    int64\n",
            " 3   debt    963 non-null    int64\n",
            " 4   income  963 non-null    int64\n",
            " 5   sales   963 non-null    int64\n",
            "dtypes: int64(6)\n",
            "memory usage: 45.3 KB\n"
          ]
        }
      ],
      "source": [
        "# to know the information on the structure of dataframe\n",
        "#Lets consider cars dataframe\n",
        "data4.info()"
      ]
    },
    {
      "cell_type": "markdown",
      "metadata": {
        "id": "cLob2rHfUSEr"
      },
      "source": [
        "AS IT IS USED TO TELL\n",
        "\n",
        "----------COLUMN NAMES\n",
        "\n",
        "----------DATATYPES OF THE COLUMNS\n",
        "\n",
        "----------DOES THE COLUMN HAVE ANY NULL  VALUES"
      ]
    },
    {
      "cell_type": "code",
      "execution_count": null,
      "metadata": {
        "id": "jao3vWHBUky9"
      },
      "outputs": [],
      "source": [
        "print(\"                                               ##################################COMPLETED########################################\")\n",
        "print(\"                                               ##################################THANK YOU########################################\")"
      ]
    },
    {
      "cell_type": "markdown",
      "metadata": {
        "id": "eI9sNkXvUSBh"
      },
      "source": []
    }
  ],
  "metadata": {
    "colab": {
      "provenance": [],
      "include_colab_link": true
    },
    "kernelspec": {
      "display_name": "Python 3",
      "name": "python3"
    },
    "language_info": {
      "name": "python"
    }
  },
  "nbformat": 4,
  "nbformat_minor": 0
}